{
 "cells": [
  {
   "cell_type": "code",
   "execution_count": 1,
   "metadata": {},
   "outputs": [],
   "source": [
    "import pandas as pd\n",
    "import selenium\n",
    "from selenium import webdriver\n",
    "from bs4 import BeautifulSoup\n",
    "import time\n",
    "from tqdm import tnrange\n",
    "from tqdm import tqdm\n",
    "from urllib.request import urlopen\n",
    "import re\n",
    "import requests\n",
    "import urllib.request\n",
    "import warnings\n",
    "\n",
    "warnings.filterwarnings('ignore')"
   ]
  },
  {
   "cell_type": "code",
   "execution_count": 2,
   "metadata": {},
   "outputs": [],
   "source": [
    "driver = webdriver.Chrome(executable_path=r'C:\\Users\\HONG\\Desktop\\HONGYP\\BOAZ\\New 텍스트마이닝\\chromedriver_win32 (4)/chromedriver.exe')\n",
    "driver.maximize_window()"
   ]
  },
  {
   "cell_type": "code",
   "execution_count": 4,
   "metadata": {},
   "outputs": [],
   "source": [
    "driver.get(\"http://www.amc.seoul.kr/asan/healthinfo/disease/diseaseSubmain.do#\")"
   ]
  },
  {
   "cell_type": "code",
   "execution_count": 5,
   "metadata": {},
   "outputs": [],
   "source": [
    "cat_list = []    \n",
    "    \n",
    "for i in range(1, 10):\n",
    "    url = \"http://www.amc.seoul.kr/asan/healthinfo/disease/diseaseList.do?partId=B00000\"+str(i)\n",
    "    cat_list.append(url)\n",
    "\n",
    "for i in range(10, 21):\n",
    "    url = \"http://www.amc.seoul.kr/asan/healthinfo/disease/diseaseList.do?partId=B0000\"+str(i)\n",
    "    cat_list.append(url)"
   ]
  },
  {
   "cell_type": "code",
   "execution_count": 6,
   "metadata": {},
   "outputs": [
    {
     "name": "stdout",
     "output_type": "stream",
     "text": [
      "['//*[@id=\"listForm\"]/div/div/ul/li[1]/div[2]/strong/a', '//*[@id=\"listForm\"]/div/div/ul/li[2]/div[2]/strong/a', '//*[@id=\"listForm\"]/div/div/ul/li[3]/div[2]/strong/a', '//*[@id=\"listForm\"]/div/div/ul/li[4]/div[2]/strong/a', '//*[@id=\"listForm\"]/div/div/ul/li[5]/div[2]/strong/a', '//*[@id=\"listForm\"]/div/div/ul/li[6]/div[2]/strong/a', '//*[@id=\"listForm\"]/div/div/ul/li[7]/div[2]/strong/a', '//*[@id=\"listForm\"]/div/div/ul/li[8]/div[2]/strong/a', '//*[@id=\"listForm\"]/div/div/ul/li[9]/div[2]/strong/a', '//*[@id=\"listForm\"]/div/div/ul/li[10]/div[2]/strong/a', '//*[@id=\"listForm\"]/div/div/ul/li[11]/div[2]/strong/a', '//*[@id=\"listForm\"]/div/div/ul/li[12]/div[2]/strong/a', '//*[@id=\"listForm\"]/div/div/ul/li[13]/div[2]/strong/a', '//*[@id=\"listForm\"]/div/div/ul/li[14]/div[2]/strong/a', '//*[@id=\"listForm\"]/div/div/ul/li[15]/div[2]/strong/a', '//*[@id=\"listForm\"]/div/div/ul/li[16]/div[2]/strong/a', '//*[@id=\"listForm\"]/div/div/ul/li[17]/div[2]/strong/a', '//*[@id=\"listForm\"]/div/div/ul/li[18]/div[2]/strong/a', '//*[@id=\"listForm\"]/div/div/ul/li[19]/div[2]/strong/a', '//*[@id=\"listForm\"]/div/div/ul/li[20]/div[2]/strong/a']\n"
     ]
    }
   ],
   "source": [
    "#//*[@id=\"listForm\"]/div/div/ul/li[1]/div[2]/strong/a\n",
    "#//*[@id=\"listForm\"]/div/div/ul/li[2]/div[2]/strong/a\n",
    "\n",
    "xpath_list = []\n",
    "\n",
    "for k in range(1,21):\n",
    "    xpath = '//*[@id=\"listForm\"]/div/div/ul/li['+str(k)+']/div[2]/strong/a'\n",
    "    xpath_list.append(xpath)\n",
    "\n",
    "print(xpath_list)"
   ]
  },
  {
   "cell_type": "code",
   "execution_count": 7,
   "metadata": {},
   "outputs": [
    {
     "name": "stdout",
     "output_type": "stream",
     "text": [
      "수집된 URL:  124\n",
      "수집된 URL:  151\n",
      "수집된 URL:  171\n",
      "수집된 URL:  235\n",
      "수집된 URL:  286\n",
      "수집된 URL:  317\n",
      "수집된 URL:  455\n",
      "수집된 URL:  511\n",
      "수집된 URL:  542\n",
      "수집된 URL:  742\n",
      "수집된 URL:  825\n",
      "수집된 URL:  855\n",
      "수집된 URL:  879\n",
      "수집된 URL:  895\n",
      "수집된 URL:  937\n",
      "수집된 URL:  1137\n",
      "수집된 URL:  1158\n",
      "수집된 URL:  1194\n",
      "수집된 URL:  1292\n",
      "수집된 URL:  1431\n",
      "수집된 URL:  1431\n"
     ]
    }
   ],
   "source": [
    "url_list= []\n",
    "part_list = []\n",
    "\n",
    "cat = 0\n",
    "\n",
    "while True:\n",
    "    try:\n",
    "        driver.get(cat_list[cat])\n",
    "        for k in range(1, 12):\n",
    "            driver.find_element_by_xpath('//*[@id=\"content\"]/div[2]/div[2]/span/a['+str(k)+']').click() \n",
    "            time.sleep(2)\n",
    "            for i in range(len(xpath_list)):\n",
    "                url = driver.find_element_by_xpath(xpath_list[i]).get_attribute('href')\n",
    "                url_list.append(url)\n",
    "                part_list.append(cat_list[cat])\n",
    "                \n",
    "    except:\n",
    "        print(\"수집된 URL: \", len(url_list))\n",
    "        cat += 1\n",
    "        if cat == 21:\n",
    "            break"
   ]
  },
  {
   "cell_type": "code",
   "execution_count": 8,
   "metadata": {},
   "outputs": [
    {
     "data": {
      "text/html": [
       "<div>\n",
       "<style scoped>\n",
       "    .dataframe tbody tr th:only-of-type {\n",
       "        vertical-align: middle;\n",
       "    }\n",
       "\n",
       "    .dataframe tbody tr th {\n",
       "        vertical-align: top;\n",
       "    }\n",
       "\n",
       "    .dataframe thead th {\n",
       "        text-align: right;\n",
       "    }\n",
       "</style>\n",
       "<table border=\"1\" class=\"dataframe\">\n",
       "  <thead>\n",
       "    <tr style=\"text-align: right;\">\n",
       "      <th></th>\n",
       "      <th>url_list</th>\n",
       "      <th>부위ID</th>\n",
       "    </tr>\n",
       "  </thead>\n",
       "  <tbody>\n",
       "    <tr>\n",
       "      <th>0</th>\n",
       "      <td>http://www.amc.seoul.kr/asan/healthinfo/diseas...</td>\n",
       "      <td>http://www.amc.seoul.kr/asan/healthinfo/diseas...</td>\n",
       "    </tr>\n",
       "    <tr>\n",
       "      <th>1</th>\n",
       "      <td>http://www.amc.seoul.kr/asan/healthinfo/diseas...</td>\n",
       "      <td>http://www.amc.seoul.kr/asan/healthinfo/diseas...</td>\n",
       "    </tr>\n",
       "    <tr>\n",
       "      <th>2</th>\n",
       "      <td>http://www.amc.seoul.kr/asan/healthinfo/diseas...</td>\n",
       "      <td>http://www.amc.seoul.kr/asan/healthinfo/diseas...</td>\n",
       "    </tr>\n",
       "    <tr>\n",
       "      <th>3</th>\n",
       "      <td>http://www.amc.seoul.kr/asan/healthinfo/diseas...</td>\n",
       "      <td>http://www.amc.seoul.kr/asan/healthinfo/diseas...</td>\n",
       "    </tr>\n",
       "    <tr>\n",
       "      <th>4</th>\n",
       "      <td>http://www.amc.seoul.kr/asan/healthinfo/diseas...</td>\n",
       "      <td>http://www.amc.seoul.kr/asan/healthinfo/diseas...</td>\n",
       "    </tr>\n",
       "  </tbody>\n",
       "</table>\n",
       "</div>"
      ],
      "text/plain": [
       "                                            url_list  \\\n",
       "0  http://www.amc.seoul.kr/asan/healthinfo/diseas...   \n",
       "1  http://www.amc.seoul.kr/asan/healthinfo/diseas...   \n",
       "2  http://www.amc.seoul.kr/asan/healthinfo/diseas...   \n",
       "3  http://www.amc.seoul.kr/asan/healthinfo/diseas...   \n",
       "4  http://www.amc.seoul.kr/asan/healthinfo/diseas...   \n",
       "\n",
       "                                                부위ID  \n",
       "0  http://www.amc.seoul.kr/asan/healthinfo/diseas...  \n",
       "1  http://www.amc.seoul.kr/asan/healthinfo/diseas...  \n",
       "2  http://www.amc.seoul.kr/asan/healthinfo/diseas...  \n",
       "3  http://www.amc.seoul.kr/asan/healthinfo/diseas...  \n",
       "4  http://www.amc.seoul.kr/asan/healthinfo/diseas...  "
      ]
     },
     "execution_count": 8,
     "metadata": {},
     "output_type": "execute_result"
    }
   ],
   "source": [
    "url_data = pd.DataFrame({'url_list': url_list, '부위ID':part_list})\n",
    "url_data.head()"
   ]
  },
  {
   "cell_type": "code",
   "execution_count": 9,
   "metadata": {},
   "outputs": [
    {
     "data": {
      "text/plain": [
       "['http://www.amc.seoul.kr/asan/healthinfo/disease/diseaseList.do?partId=B000001',\n",
       " 'http://www.amc.seoul.kr/asan/healthinfo/disease/diseaseList.do?partId=B000002',\n",
       " 'http://www.amc.seoul.kr/asan/healthinfo/disease/diseaseList.do?partId=B000003',\n",
       " 'http://www.amc.seoul.kr/asan/healthinfo/disease/diseaseList.do?partId=B000004',\n",
       " 'http://www.amc.seoul.kr/asan/healthinfo/disease/diseaseList.do?partId=B000005',\n",
       " 'http://www.amc.seoul.kr/asan/healthinfo/disease/diseaseList.do?partId=B000006',\n",
       " 'http://www.amc.seoul.kr/asan/healthinfo/disease/diseaseList.do?partId=B000007',\n",
       " 'http://www.amc.seoul.kr/asan/healthinfo/disease/diseaseList.do?partId=B000008',\n",
       " 'http://www.amc.seoul.kr/asan/healthinfo/disease/diseaseList.do?partId=B000009',\n",
       " 'http://www.amc.seoul.kr/asan/healthinfo/disease/diseaseList.do?partId=B000010',\n",
       " 'http://www.amc.seoul.kr/asan/healthinfo/disease/diseaseList.do?partId=B000011',\n",
       " 'http://www.amc.seoul.kr/asan/healthinfo/disease/diseaseList.do?partId=B000012',\n",
       " 'http://www.amc.seoul.kr/asan/healthinfo/disease/diseaseList.do?partId=B000013',\n",
       " 'http://www.amc.seoul.kr/asan/healthinfo/disease/diseaseList.do?partId=B000014',\n",
       " 'http://www.amc.seoul.kr/asan/healthinfo/disease/diseaseList.do?partId=B000015',\n",
       " 'http://www.amc.seoul.kr/asan/healthinfo/disease/diseaseList.do?partId=B000016',\n",
       " 'http://www.amc.seoul.kr/asan/healthinfo/disease/diseaseList.do?partId=B000017',\n",
       " 'http://www.amc.seoul.kr/asan/healthinfo/disease/diseaseList.do?partId=B000018',\n",
       " 'http://www.amc.seoul.kr/asan/healthinfo/disease/diseaseList.do?partId=B000019',\n",
       " 'http://www.amc.seoul.kr/asan/healthinfo/disease/diseaseList.do?partId=B000020']"
      ]
     },
     "execution_count": 9,
     "metadata": {},
     "output_type": "execute_result"
    }
   ],
   "source": [
    "cat_list"
   ]
  },
  {
   "cell_type": "code",
   "execution_count": 10,
   "metadata": {},
   "outputs": [],
   "source": [
    "def IDtoNAME (x):\n",
    "    if x == cat_list[0]:\n",
    "        return \"골반\"\n",
    "    if x == cat_list[1]:\n",
    "        return \"귀\"\n",
    "    if x == cat_list[2]:\n",
    "        return \"기타\"\n",
    "    if x == cat_list[3]:\n",
    "        return \"눈\"\n",
    "    if x == cat_list[4]:\n",
    "        return \"다리\"\n",
    "    if x == cat_list[5]:\n",
    "        return \"등/허리\"\n",
    "    if x == cat_list[6]:\n",
    "        return \"머리\"\n",
    "    if x == cat_list[7]:\n",
    "        return \"목\"\n",
    "    if x == cat_list[8]:\n",
    "        return \"발\"\n",
    "    if x == cat_list[9]:\n",
    "        return \"배\"\n",
    "    if x == cat_list[10]:\n",
    "        return \"생식기\"\n",
    "    if x == cat_list[11]:\n",
    "        return \"손\"\n",
    "    if x == cat_list[12]:\n",
    "        return \"엉덩이\"\n",
    "    if x == cat_list[13]:\n",
    "        return \"유방\"\n",
    "    if x == cat_list[14]:\n",
    "        return \"입\"\n",
    "    if x == cat_list[15]:\n",
    "        return \"전신\"\n",
    "    if x == cat_list[16]:\n",
    "        return \"코\"\n",
    "    if x == cat_list[17]:\n",
    "        return \"팔\"\n",
    "    if x == cat_list[18]:\n",
    "        return \"피부\"\n",
    "    if x == cat_list[19]:\n",
    "        return \"가슴\""
   ]
  },
  {
   "cell_type": "code",
   "execution_count": 11,
   "metadata": {},
   "outputs": [],
   "source": [
    "url_data[\"부위\"] = url_data[\"부위ID\"].apply(IDtoNAME)"
   ]
  },
  {
   "cell_type": "code",
   "execution_count": 15,
   "metadata": {},
   "outputs": [
    {
     "data": {
      "text/html": [
       "<div>\n",
       "<style scoped>\n",
       "    .dataframe tbody tr th:only-of-type {\n",
       "        vertical-align: middle;\n",
       "    }\n",
       "\n",
       "    .dataframe tbody tr th {\n",
       "        vertical-align: top;\n",
       "    }\n",
       "\n",
       "    .dataframe thead th {\n",
       "        text-align: right;\n",
       "    }\n",
       "</style>\n",
       "<table border=\"1\" class=\"dataframe\">\n",
       "  <thead>\n",
       "    <tr style=\"text-align: right;\">\n",
       "      <th></th>\n",
       "      <th>url_list</th>\n",
       "      <th>부위ID</th>\n",
       "      <th>부위</th>\n",
       "    </tr>\n",
       "  </thead>\n",
       "  <tbody>\n",
       "    <tr>\n",
       "      <th>0</th>\n",
       "      <td>http://www.amc.seoul.kr/asan/healthinfo/diseas...</td>\n",
       "      <td>http://www.amc.seoul.kr/asan/healthinfo/diseas...</td>\n",
       "      <td>골반</td>\n",
       "    </tr>\n",
       "    <tr>\n",
       "      <th>1</th>\n",
       "      <td>http://www.amc.seoul.kr/asan/healthinfo/diseas...</td>\n",
       "      <td>http://www.amc.seoul.kr/asan/healthinfo/diseas...</td>\n",
       "      <td>골반</td>\n",
       "    </tr>\n",
       "    <tr>\n",
       "      <th>2</th>\n",
       "      <td>http://www.amc.seoul.kr/asan/healthinfo/diseas...</td>\n",
       "      <td>http://www.amc.seoul.kr/asan/healthinfo/diseas...</td>\n",
       "      <td>골반</td>\n",
       "    </tr>\n",
       "    <tr>\n",
       "      <th>3</th>\n",
       "      <td>http://www.amc.seoul.kr/asan/healthinfo/diseas...</td>\n",
       "      <td>http://www.amc.seoul.kr/asan/healthinfo/diseas...</td>\n",
       "      <td>골반</td>\n",
       "    </tr>\n",
       "    <tr>\n",
       "      <th>4</th>\n",
       "      <td>http://www.amc.seoul.kr/asan/healthinfo/diseas...</td>\n",
       "      <td>http://www.amc.seoul.kr/asan/healthinfo/diseas...</td>\n",
       "      <td>골반</td>\n",
       "    </tr>\n",
       "  </tbody>\n",
       "</table>\n",
       "</div>"
      ],
      "text/plain": [
       "                                            url_list  \\\n",
       "0  http://www.amc.seoul.kr/asan/healthinfo/diseas...   \n",
       "1  http://www.amc.seoul.kr/asan/healthinfo/diseas...   \n",
       "2  http://www.amc.seoul.kr/asan/healthinfo/diseas...   \n",
       "3  http://www.amc.seoul.kr/asan/healthinfo/diseas...   \n",
       "4  http://www.amc.seoul.kr/asan/healthinfo/diseas...   \n",
       "\n",
       "                                                부위ID  부위  \n",
       "0  http://www.amc.seoul.kr/asan/healthinfo/diseas...  골반  \n",
       "1  http://www.amc.seoul.kr/asan/healthinfo/diseas...  골반  \n",
       "2  http://www.amc.seoul.kr/asan/healthinfo/diseas...  골반  \n",
       "3  http://www.amc.seoul.kr/asan/healthinfo/diseas...  골반  \n",
       "4  http://www.amc.seoul.kr/asan/healthinfo/diseas...  골반  "
      ]
     },
     "execution_count": 15,
     "metadata": {},
     "output_type": "execute_result"
    }
   ],
   "source": [
    "url_data.head()"
   ]
  },
  {
   "cell_type": "code",
   "execution_count": 16,
   "metadata": {},
   "outputs": [],
   "source": [
    "url_data.to_csv(\"질환백과 URL.csv\", encoding = \"utf-8\")"
   ]
  },
  {
   "cell_type": "code",
   "execution_count": 15,
   "metadata": {},
   "outputs": [],
   "source": [
    "URL_DATA = pd.read_csv(\"질환백과 URL.csv\")"
   ]
  },
  {
   "cell_type": "code",
   "execution_count": 34,
   "metadata": {},
   "outputs": [],
   "source": [
    "headers = {\n",
    "    \"User-Agent\": \"Mozilla/5.0 (Macintosh; Intel Mac OS X 10_9_5) AppleWebKit 537.36 (KHTML, like Gecko) Chrome\",\n",
    "    \"Accept\": \"text/html,application/xhtml+xml,application/xml;q=0.9,image/webp,*/*;q=0.8\"\n",
    "}\n",
    "driver.get(URL_DATA[\"url_list\"][1010])\n",
    "response = requests.get(URL_DATA[\"url_list\"][1010], headers=headers)\n",
    "source = response.text\n",
    "\n",
    "soup = BeautifulSoup(source, 'html.parser')"
   ]
  },
  {
   "cell_type": "code",
   "execution_count": 5,
   "metadata": {},
   "outputs": [
    {
     "data": {
      "text/plain": [
       "'과민성 방광(Overactive Bladder)'"
      ]
     },
     "execution_count": 5,
     "metadata": {},
     "output_type": "execute_result"
    }
   ],
   "source": [
    "soup.find_all(\"strong\", attrs = {\"class\":\"contTitle\"})[0].text"
   ]
  },
  {
   "cell_type": "code",
   "execution_count": 6,
   "metadata": {},
   "outputs": [
    {
     "data": {
      "text/plain": [
       "'급성 방광염, 방광의 신경근육 기능 장애, 간질성 방광염'"
      ]
     },
     "execution_count": 6,
     "metadata": {},
     "output_type": "execute_result"
    }
   ],
   "source": [
    "re.sub(\"[\\r\\n\\t]\", \"\", str(soup.find_all(\"dd\")[0].text.strip()))\n",
    "# 비인쇄문자: \n",
    "# 벨\\a, 이스케이프\\e, 폼 피드\\f, 라인 피드(개행문자)\\n, 캐리지 리턴\\r, 가로 탭\\t, 세로 탭\\v"
   ]
  },
  {
   "cell_type": "code",
   "execution_count": 12,
   "metadata": {},
   "outputs": [
    {
     "data": {
      "text/plain": [
       "'정의과민성 방광(overactive bladder, OAB)이란 요로 감염 등 다른 명확한 원인이 없는 상태에서 요절박(절박뇨, 강하고 갑작스럽게 소변을 보고 싶은 느낌)이 나타나며 주간 빈뇨와 야간뇨를 흔하게 동반하는 질환을 의미합니다.\\xa0방광은 우리 몸에서 소변을 저장하고 배출하는 역할을 합니다.정상적인 방광은 소변이 300~400cc 정도 찰 때까지 압력이 증가하지 않은 채 풍선처럼 늘어납니다. 그러다가 요의(소변을 보고 싶다는 느낌)가 들면 외요도 괄약근이 열리고 배뇨근이 수축하여 소변을 배출한 뒤 다시 제 모양으로 돌아옵니다.\\xa0과민성 방광은 절박성 요실금의 동반 여부에 따라 절박성 요실금이 동반되지 않는 경우(OAB dry)와 절박성 요실금을 동반하는 경우(OAB wet)로 나누어집니다.\\xa0원인과민성 방광은 대부분 특별한 원인이 없습니다. 과민성 방광은 모든 연령층에서 발생할 수 있으며, 나이가 들수록 빈도가 증가하는 경향을 보입니다. 남성과 여성의 발생 빈도는 유사합니다.\\xa0증상과민성 방광의 주된 증상은 갑작스럽게 요의를 느끼는 요절박(절박뇨)입니다. 요의를 참을 수 없어 화장실에 도착하기 전에 소변을 지리는 절박성 요실금이 발생할 수 있습니다. 주간 빈뇨, 야간뇨가 흔하게 동반됩니다.진단과민성 방광은 환자의 임상 증상에 근거하여 진단합니다. 병력 청취를 통해 임상 증상을 파악하고, 소변 검사를 통해 요로 감염을 배제합니다.환자가 호소하는 증상을 보다 정확하게 파악하기 위하여 배뇨일지나 과민성 방광 증상 설문지를 작성합니다. 안전하게 치료를 시작, 지속하기 위해 배뇨 후 잔뇨량을 측정합니다. 때때로 요속 검사나 요역동학 검사를 추가로 시행하기도 합니다.치료 과민성 방광의 치료 방법은 크게 행동 치료, 약물 치료, 수술 치료로 나누어집니다.\\xa0행동 치료로는 수분 섭취량을 조절하고 소변을 참았다가 모아 보는 방광 훈련을 시행합니다. 이러한 행동 치료를 바탕으로, 항콜린제, 베타3수용체 작용제 약물 치료를 시행합니다.이렇게 행동 치료와 약물 치료를 병행하면 상당수의 환자들이 원활하게 증상을 조절할 수 있습니다.\\xa0그러나 약물 치료의 효과가 부족한 일부 환자의 경우 방광 내 보툴리누스독소 주입술, 천수신경 조정술, 방광 용적 확대술 등의 수술 치료를 고려할 수 있습니다.$(\".contDescription dl dd:last\").addClass(\"borNone\");'"
      ]
     },
     "execution_count": 12,
     "metadata": {},
     "output_type": "execute_result"
    }
   ],
   "source": [
    "re.sub(\"[\\r\\n\\t]\", \"\", str(soup.find_all(\"dd\", attrs = {\"class\":\"contDescription\"})[0].text.strip()))"
   ]
  },
  {
   "cell_type": "code",
   "execution_count": 7,
   "metadata": {},
   "outputs": [
    {
     "data": {
      "text/plain": [
       "'과민성 방광(overactive bladder, OAB)이란 요로 감염 등 다른 명확한 원인이 없는 상태에서 요절박(절박뇨, 강하고 갑작스럽게 소변을 보고 싶은 느낌)이 나타나며 주간 빈뇨와 야간뇨를 흔하게 동반하는 질환을 의미합니다.\\xa0방광은 우리 몸에서 소변을 저장하고 배출하는 역할을 합니다.정상적인 방광은 소변이 300~400cc 정도 찰 때까지 압력이 증가하지 않은 채 풍선처럼 늘어납니다. 그러다가 요의(소변을 보고 싶다는 느낌)가 들면 외요도 괄약근이 열리고 배뇨근이 수축하여 소변을 배출한 뒤 다시 제 모양으로 돌아옵니다.\\xa0과민성 방광은 절박성 요실금의 동반 여부에 따라 절박성 요실금이 동반되지 않는 경우(OAB dry)와 절박성 요실금을 동반하는 경우(OAB wet)로 나누어집니다.'"
      ]
     },
     "execution_count": 7,
     "metadata": {},
     "output_type": "execute_result"
    }
   ],
   "source": [
    "re.sub(\"[\\r\\n\\t]\", \"\", str(soup.find_all(\"dd\")[2].text.strip()))"
   ]
  },
  {
   "cell_type": "code",
   "execution_count": 85,
   "metadata": {},
   "outputs": [
    {
     "data": {
      "text/plain": [
       "91"
      ]
     },
     "execution_count": 85,
     "metadata": {},
     "output_type": "execute_result"
    }
   ],
   "source": [
    "len(re.sub(\"[\\r\\n\\t]\", \"\", str(soup.find_all(\"dd\")[4].text.strip())))"
   ]
  },
  {
   "cell_type": "code",
   "execution_count": 96,
   "metadata": {},
   "outputs": [
    {
     "data": {
      "text/plain": [
       "'난관수종은 주로 성전파성 질환(STD)의 원인인 임질균이나 클라미디어 균에 의한 골반염 및 난관염에 의해 발생합니다. 다만 원인을 확인할 수 없는 경우도 있습니다.'"
      ]
     },
     "execution_count": 96,
     "metadata": {},
     "output_type": "execute_result"
    }
   ],
   "source": [
    "if len(re.sub(\"[\\r\\n\\t]\", \"\", str(soup.find_all(\"dd\")[3].text.strip()))) < 30:\n",
    "    cause = re.sub(\"[\\r\\n\\t]\", \"\", str(soup.find_all(\"dd\")[8].text.strip()))\n",
    "else:\n",
    "    cause = re.sub(\"[\\r\\n\\t]\", \"\", str(soup.find_all(\"dd\")[4].text.strip()))\n",
    "    \n",
    "cause"
   ]
  },
  {
   "cell_type": "code",
   "execution_count": 97,
   "metadata": {},
   "outputs": [
    {
     "data": {
      "text/plain": [
       "'난관수종은 생리 주기에 영향을 줄 수 있으며, 만성적인 골반 통증과 반복되는 통증을 유발할 수 있습니다. 급성 골반염이 반복적으로 나타납니다. 그러나 별다른 증상이 나타나지 않기도 합니다.'"
      ]
     },
     "execution_count": 97,
     "metadata": {},
     "output_type": "execute_result"
    }
   ],
   "source": [
    "re.sub(\"[\\r\\n\\t]\", \"\", str(soup.find_all(\"dd\")[5].text.strip()))"
   ]
  },
  {
   "cell_type": "code",
   "execution_count": 98,
   "metadata": {},
   "outputs": [
    {
     "data": {
      "text/plain": [
       "'난관수종으로 인해 난관이 완전히 막히면 자연적인 임신이 어렵습니다. 경증이라면 막혀 있는 난관을 열어주어 자연적으로 임신할 수 있습니다. 그러나 난관의 손상이 심하면 시험관 아기와 같은 대안을 통해 임신을 시도해야 합니다.'"
      ]
     },
     "execution_count": 98,
     "metadata": {},
     "output_type": "execute_result"
    }
   ],
   "source": [
    "re.sub(\"[\\r\\n\\t]\", \"\", str(soup.find_all(\"dd\")[8].text.strip()))"
   ]
  },
  {
   "cell_type": "code",
   "execution_count": 16,
   "metadata": {},
   "outputs": [
    {
     "name": "stderr",
     "output_type": "stream",
     "text": [
      "100%|██████████████████████████████████████████████████████████████████████████████| 1431/1431 [19:33<00:00,  1.22it/s]\n"
     ]
    }
   ],
   "source": [
    "result_list = []\n",
    "\n",
    "for url in tqdm(URL_DATA['url_list']):\n",
    "    r = requests.get(url)\n",
    "    soup = BeautifulSoup(r.text, 'lxml')\n",
    "    try:\n",
    "        # 질환명\n",
    "        name = soup.find_all(\"strong\", attrs = {\"class\":\"contTitle\"})[0].text\n",
    "        \n",
    "        # 증상\n",
    "        symptom = re.sub(\"[\\r\\n\\t]\", \"\", str(soup.find_all(\"dd\")[0].text.strip()))\n",
    "\n",
    "        # 진료과\n",
    "        dept = re.sub(\"[\\r\\n\\t]\", \"\", str(soup.find_all(\"dd\")[2].text.strip()))\n",
    "        \n",
    "        if len(re.sub(\"[\\r\\n\\t]\", \"\", str(soup.find_all(\"dd\")[3].text.strip()))) < 30:\n",
    "            # 원인\n",
    "            cause = re.sub(\"[\\r\\n\\t]\", \"\", str(soup.find_all(\"dd\")[5].text.strip()))\n",
    "            # 상세증상\n",
    "            symptom_detail = re.sub(\"[\\r\\n\\t]\", \"\", str(soup.find_all(\"dd\")[6].text.strip()))\n",
    "            # 치료\n",
    "            cure = re.sub(\"[\\r\\n\\t]\", \"\", str(soup.find_all(\"dd\")[8].text.strip()))\n",
    "        else:\n",
    "            # 원인\n",
    "            cause = re.sub(\"[\\r\\n\\t]\", \"\", str(soup.find_all(\"dd\")[4].text.strip()))\n",
    "            # 상세증상\n",
    "            symptom_detail = re.sub(\"[\\r\\n\\t]\", \"\", str(soup.find_all(\"dd\")[5].text.strip()))\n",
    "            # 치료\n",
    "            cure = re.sub(\"[\\r\\n\\t]\", \"\", str(soup.find_all(\"dd\")[7].text.strip()))\n",
    "        \n",
    "    except:\n",
    "        name = '정보없음'\n",
    "        symptom = '정보없음'\n",
    "        dept = '정보없음'\n",
    "        cause = '정보없음'\n",
    "        symptom_detail = '정보없음'\n",
    "        cure = '정보없음'\n",
    "        continue\n",
    "        \n",
    "    result = name, symptom, dept, cause, symptom_detail, cure\n",
    "    result_list.append(result)\n",
    "        \n",
    "    time.sleep(0.5)"
   ]
  },
  {
   "cell_type": "code",
   "execution_count": 18,
   "metadata": {},
   "outputs": [],
   "source": [
    "disease_data = pd.DataFrame(result_list, columns = ['질환명', '증상', '진료과', '원인', '상세증상', '치료'])"
   ]
  },
  {
   "cell_type": "code",
   "execution_count": 19,
   "metadata": {},
   "outputs": [
    {
     "data": {
      "text/html": [
       "<div>\n",
       "<style scoped>\n",
       "    .dataframe tbody tr th:only-of-type {\n",
       "        vertical-align: middle;\n",
       "    }\n",
       "\n",
       "    .dataframe tbody tr th {\n",
       "        vertical-align: top;\n",
       "    }\n",
       "\n",
       "    .dataframe thead th {\n",
       "        text-align: right;\n",
       "    }\n",
       "</style>\n",
       "<table border=\"1\" class=\"dataframe\">\n",
       "  <thead>\n",
       "    <tr style=\"text-align: right;\">\n",
       "      <th></th>\n",
       "      <th>질환명</th>\n",
       "      <th>증상</th>\n",
       "      <th>진료과</th>\n",
       "      <th>원인</th>\n",
       "      <th>상세증상</th>\n",
       "      <th>치료</th>\n",
       "    </tr>\n",
       "  </thead>\n",
       "  <tbody>\n",
       "    <tr>\n",
       "      <th>0</th>\n",
       "      <td>가진통(False labor)</td>\n",
       "      <td>비정상적인 진통, 불규칙적 진통</td>\n",
       "      <td>산부인과</td>\n",
       "      <td>불규칙한 자궁 수축과 이완으로 발생됩니다.</td>\n",
       "      <td>불규칙한 자궁 수축으로 인해 하복부에 국한되어 통증이 나타납니다. 자궁 수축의 간격...</td>\n",
       "      <td>특별한 조치 없이 증상이 사라집니다. 쉬거나 안정을 취하면 통증이 완화될 수 있으며...</td>\n",
       "    </tr>\n",
       "    <tr>\n",
       "      <th>1</th>\n",
       "      <td>간질성 방광염(Interstitial Cystitis)</td>\n",
       "      <td>긴박뇨, 야간뇨, 복부 통증, 빈뇨, 방광 팽만</td>\n",
       "      <td>비뇨의학과</td>\n",
       "      <td>아직까지 명확하게 밝혀진 원인은 없습니다. 다만 방광 상피층의 결함으로 방광 투과성...</td>\n",
       "      <td>소변이 찰 때 심한 방광 통증을 호소합니다. 배뇨 후에 통증이 경감됩니다. 이러한 ...</td>\n",
       "      <td>현재까지 간질성 방광염을 완치하는 치료 방법은 없습니다. 따라서 간질성 방광염에 대...</td>\n",
       "    </tr>\n",
       "    <tr>\n",
       "      <th>2</th>\n",
       "      <td>강직성 척추염(Ankylosing spondylitis)</td>\n",
       "      <td>어깨의 통증, 관절통, 말초 통증, 골반 통증, 엉덩이 통증, 관절의 경직, 요통</td>\n",
       "      <td>재활의학과, 류마티스내과</td>\n",
       "      <td>아직 정확한 원인은 밝혀지지 않았지만, 유전적 연관이 있다고 알려져 있습니다. 강직...</td>\n",
       "      <td>개인에 따라 증상에 많은 차이가 있습니다.가장 흔한 초기 증상은 허리 통증으로, 거...</td>\n",
       "      <td>치료의 목적은 통증, 강직, 피로를 감소시키고 좋은 자세와 육체적, 정신적, 사회적...</td>\n",
       "    </tr>\n",
       "    <tr>\n",
       "      <th>3</th>\n",
       "      <td>계류 유산(Missed abortion)</td>\n",
       "      <td>멍, 커지지 않는 자궁, 복부 통증, 체중감소, 유방의 퇴행, 비출혈, 비정상적 질출혈</td>\n",
       "      <td>산부인과</td>\n",
       "      <td>계류 유산의 정확한 원인은 밝혀지지 않았으나 절반 이상에서 염색체 이상이나 태아의 ...</td>\n",
       "      <td>계류 유산은 별 증상이 없을 수도 있고, 질 출혈과 복통이 있을 수도 있습니다. 또...</td>\n",
       "      <td>초음파 검사 등을 통하여 태아가 사망한 것이 확진되면 주 수에 따라 자궁소파술을 시...</td>\n",
       "    </tr>\n",
       "    <tr>\n",
       "      <th>4</th>\n",
       "      <td>고관절 이형성증(DDH (developmental dysplasia of the h...</td>\n",
       "      <td>다리의 길이가 틀림, 귀두가 울혈됨, 오리걸음, 다리가 잘 안 벌어짐</td>\n",
       "      <td>정형외과, 소아정형외과</td>\n",
       "      <td>고관절 이형성증은 선천적 또는 발달성으로 비구의 발육 부진으로 인해, 고관절 내 공...</td>\n",
       "      <td>고관절 이형성증은 정확한 원인은 아직 밝혀지지 않고 있지만 엉덩이 관절의 관절염의 ...</td>\n",
       "      <td>의사는 출생 직후에 아기의 고관절이 정상적인지 살펴보고 이상이 있으면 초음파 검사로...</td>\n",
       "    </tr>\n",
       "  </tbody>\n",
       "</table>\n",
       "</div>"
      ],
      "text/plain": [
       "                                                 질환명  \\\n",
       "0                                   가진통(False labor)   \n",
       "1                     간질성 방광염(Interstitial Cystitis)   \n",
       "2                    강직성 척추염(Ankylosing spondylitis)   \n",
       "3                             계류 유산(Missed abortion)   \n",
       "4  고관절 이형성증(DDH (developmental dysplasia of the h...   \n",
       "\n",
       "                                                 증상            진료과  \\\n",
       "0                                 비정상적인 진통, 불규칙적 진통           산부인과   \n",
       "1                        긴박뇨, 야간뇨, 복부 통증, 빈뇨, 방광 팽만          비뇨의학과   \n",
       "2     어깨의 통증, 관절통, 말초 통증, 골반 통증, 엉덩이 통증, 관절의 경직, 요통  재활의학과, 류마티스내과   \n",
       "3  멍, 커지지 않는 자궁, 복부 통증, 체중감소, 유방의 퇴행, 비출혈, 비정상적 질출혈           산부인과   \n",
       "4            다리의 길이가 틀림, 귀두가 울혈됨, 오리걸음, 다리가 잘 안 벌어짐   정형외과, 소아정형외과   \n",
       "\n",
       "                                                  원인  \\\n",
       "0                            불규칙한 자궁 수축과 이완으로 발생됩니다.   \n",
       "1  아직까지 명확하게 밝혀진 원인은 없습니다. 다만 방광 상피층의 결함으로 방광 투과성...   \n",
       "2  아직 정확한 원인은 밝혀지지 않았지만, 유전적 연관이 있다고 알려져 있습니다. 강직...   \n",
       "3  계류 유산의 정확한 원인은 밝혀지지 않았으나 절반 이상에서 염색체 이상이나 태아의 ...   \n",
       "4  고관절 이형성증은 선천적 또는 발달성으로 비구의 발육 부진으로 인해, 고관절 내 공...   \n",
       "\n",
       "                                                상세증상  \\\n",
       "0  불규칙한 자궁 수축으로 인해 하복부에 국한되어 통증이 나타납니다. 자궁 수축의 간격...   \n",
       "1  소변이 찰 때 심한 방광 통증을 호소합니다. 배뇨 후에 통증이 경감됩니다. 이러한 ...   \n",
       "2  개인에 따라 증상에 많은 차이가 있습니다.가장 흔한 초기 증상은 허리 통증으로, 거...   \n",
       "3  계류 유산은 별 증상이 없을 수도 있고, 질 출혈과 복통이 있을 수도 있습니다. 또...   \n",
       "4  고관절 이형성증은 정확한 원인은 아직 밝혀지지 않고 있지만 엉덩이 관절의 관절염의 ...   \n",
       "\n",
       "                                                  치료  \n",
       "0  특별한 조치 없이 증상이 사라집니다. 쉬거나 안정을 취하면 통증이 완화될 수 있으며...  \n",
       "1  현재까지 간질성 방광염을 완치하는 치료 방법은 없습니다. 따라서 간질성 방광염에 대...  \n",
       "2  치료의 목적은 통증, 강직, 피로를 감소시키고 좋은 자세와 육체적, 정신적, 사회적...  \n",
       "3  초음파 검사 등을 통하여 태아가 사망한 것이 확진되면 주 수에 따라 자궁소파술을 시...  \n",
       "4  의사는 출생 직후에 아기의 고관절이 정상적인지 살펴보고 이상이 있으면 초음파 검사로...  "
      ]
     },
     "execution_count": 19,
     "metadata": {},
     "output_type": "execute_result"
    }
   ],
   "source": [
    "disease_data.head()"
   ]
  },
  {
   "cell_type": "code",
   "execution_count": 20,
   "metadata": {},
   "outputs": [],
   "source": [
    "disease_data.to_csv(\"질환백과 크롤링 데이터.csv\", encoding = \"utf-8\")"
   ]
  },
  {
   "cell_type": "code",
   "execution_count": 21,
   "metadata": {},
   "outputs": [],
   "source": [
    "disease_data.to_excel(\"질환백과 크롤링 데이터.xlsx\", encoding = \"cp949\")"
   ]
  },
  {
   "cell_type": "code",
   "execution_count": 38,
   "metadata": {},
   "outputs": [],
   "source": [
    "data = pd.read_excel(\"질환백과 크롤링 데이터.xlsx\")"
   ]
  },
  {
   "cell_type": "code",
   "execution_count": 39,
   "metadata": {},
   "outputs": [
    {
     "data": {
      "text/html": [
       "<div>\n",
       "<style scoped>\n",
       "    .dataframe tbody tr th:only-of-type {\n",
       "        vertical-align: middle;\n",
       "    }\n",
       "\n",
       "    .dataframe tbody tr th {\n",
       "        vertical-align: top;\n",
       "    }\n",
       "\n",
       "    .dataframe thead th {\n",
       "        text-align: right;\n",
       "    }\n",
       "</style>\n",
       "<table border=\"1\" class=\"dataframe\">\n",
       "  <thead>\n",
       "    <tr style=\"text-align: right;\">\n",
       "      <th></th>\n",
       "      <th>Unnamed: 0</th>\n",
       "      <th>질환명</th>\n",
       "      <th>증상</th>\n",
       "      <th>진료과</th>\n",
       "      <th>원인</th>\n",
       "      <th>상세증상</th>\n",
       "      <th>치료</th>\n",
       "    </tr>\n",
       "  </thead>\n",
       "  <tbody>\n",
       "    <tr>\n",
       "      <th>0</th>\n",
       "      <td>0</td>\n",
       "      <td>가진통(False labor)</td>\n",
       "      <td>비정상적인 진통, 불규칙적 진통</td>\n",
       "      <td>산부인과</td>\n",
       "      <td>불규칙한 자궁 수축과 이완으로 발생됩니다.</td>\n",
       "      <td>불규칙한 자궁 수축으로 인해 하복부에 국한되어 통증이 나타납니다. 자궁 수축의 간격...</td>\n",
       "      <td>특별한 조치 없이 증상이 사라집니다. 쉬거나 안정을 취하면 통증이 완화될 수 있으며...</td>\n",
       "    </tr>\n",
       "    <tr>\n",
       "      <th>1</th>\n",
       "      <td>1</td>\n",
       "      <td>간질성 방광염(Interstitial Cystitis)</td>\n",
       "      <td>긴박뇨, 야간뇨, 복부 통증, 빈뇨, 방광 팽만</td>\n",
       "      <td>비뇨의학과</td>\n",
       "      <td>아직까지 명확하게 밝혀진 원인은 없습니다. 다만 방광 상피층의 결함으로 방광 투과성...</td>\n",
       "      <td>소변이 찰 때 심한 방광 통증을 호소합니다. 배뇨 후에 통증이 경감됩니다. 이러한 ...</td>\n",
       "      <td>현재까지 간질성 방광염을 완치하는 치료 방법은 없습니다. 따라서 간질성 방광염에 대...</td>\n",
       "    </tr>\n",
       "    <tr>\n",
       "      <th>2</th>\n",
       "      <td>2</td>\n",
       "      <td>강직성 척추염(Ankylosing spondylitis)</td>\n",
       "      <td>어깨의 통증, 관절통, 말초 통증, 골반 통증, 엉덩이 통증, 관절의 경직, 요통</td>\n",
       "      <td>재활의학과, 류마티스내과</td>\n",
       "      <td>아직 정확한 원인은 밝혀지지 않았지만, 유전적 연관이 있다고 알려져 있습니다. 강직...</td>\n",
       "      <td>개인에 따라 증상에 많은 차이가 있습니다.가장 흔한 초기 증상은 허리 통증으로, 거...</td>\n",
       "      <td>치료의 목적은 통증, 강직, 피로를 감소시키고 좋은 자세와 육체적, 정신적, 사회적...</td>\n",
       "    </tr>\n",
       "    <tr>\n",
       "      <th>3</th>\n",
       "      <td>3</td>\n",
       "      <td>계류 유산(Missed abortion)</td>\n",
       "      <td>멍, 커지지 않는 자궁, 복부 통증, 체중감소, 유방의 퇴행, 비출혈, 비정상적 질출혈</td>\n",
       "      <td>산부인과</td>\n",
       "      <td>계류 유산의 정확한 원인은 밝혀지지 않았으나 절반 이상에서 염색체 이상이나 태아의 ...</td>\n",
       "      <td>계류 유산은 별 증상이 없을 수도 있고, 질 출혈과 복통이 있을 수도 있습니다. 또...</td>\n",
       "      <td>초음파 검사 등을 통하여 태아가 사망한 것이 확진되면 주 수에 따라 자궁소파술을 시...</td>\n",
       "    </tr>\n",
       "    <tr>\n",
       "      <th>4</th>\n",
       "      <td>4</td>\n",
       "      <td>고관절 이형성증(DDH (developmental dysplasia of the h...</td>\n",
       "      <td>다리의 길이가 틀림, 귀두가 울혈됨, 오리걸음, 다리가 잘 안 벌어짐</td>\n",
       "      <td>정형외과, 소아정형외과</td>\n",
       "      <td>고관절 이형성증은 선천적 또는 발달성으로 비구의 발육 부진으로 인해, 고관절 내 공...</td>\n",
       "      <td>고관절 이형성증은 정확한 원인은 아직 밝혀지지 않고 있지만 엉덩이 관절의 관절염의 ...</td>\n",
       "      <td>의사는 출생 직후에 아기의 고관절이 정상적인지 살펴보고 이상이 있으면 초음파 검사로...</td>\n",
       "    </tr>\n",
       "  </tbody>\n",
       "</table>\n",
       "</div>"
      ],
      "text/plain": [
       "   Unnamed: 0                                                질환명  \\\n",
       "0           0                                   가진통(False labor)   \n",
       "1           1                     간질성 방광염(Interstitial Cystitis)   \n",
       "2           2                    강직성 척추염(Ankylosing spondylitis)   \n",
       "3           3                             계류 유산(Missed abortion)   \n",
       "4           4  고관절 이형성증(DDH (developmental dysplasia of the h...   \n",
       "\n",
       "                                                 증상            진료과  \\\n",
       "0                                 비정상적인 진통, 불규칙적 진통           산부인과   \n",
       "1                        긴박뇨, 야간뇨, 복부 통증, 빈뇨, 방광 팽만          비뇨의학과   \n",
       "2     어깨의 통증, 관절통, 말초 통증, 골반 통증, 엉덩이 통증, 관절의 경직, 요통  재활의학과, 류마티스내과   \n",
       "3  멍, 커지지 않는 자궁, 복부 통증, 체중감소, 유방의 퇴행, 비출혈, 비정상적 질출혈           산부인과   \n",
       "4            다리의 길이가 틀림, 귀두가 울혈됨, 오리걸음, 다리가 잘 안 벌어짐   정형외과, 소아정형외과   \n",
       "\n",
       "                                                  원인  \\\n",
       "0                            불규칙한 자궁 수축과 이완으로 발생됩니다.   \n",
       "1  아직까지 명확하게 밝혀진 원인은 없습니다. 다만 방광 상피층의 결함으로 방광 투과성...   \n",
       "2  아직 정확한 원인은 밝혀지지 않았지만, 유전적 연관이 있다고 알려져 있습니다. 강직...   \n",
       "3  계류 유산의 정확한 원인은 밝혀지지 않았으나 절반 이상에서 염색체 이상이나 태아의 ...   \n",
       "4  고관절 이형성증은 선천적 또는 발달성으로 비구의 발육 부진으로 인해, 고관절 내 공...   \n",
       "\n",
       "                                                상세증상  \\\n",
       "0  불규칙한 자궁 수축으로 인해 하복부에 국한되어 통증이 나타납니다. 자궁 수축의 간격...   \n",
       "1  소변이 찰 때 심한 방광 통증을 호소합니다. 배뇨 후에 통증이 경감됩니다. 이러한 ...   \n",
       "2  개인에 따라 증상에 많은 차이가 있습니다.가장 흔한 초기 증상은 허리 통증으로, 거...   \n",
       "3  계류 유산은 별 증상이 없을 수도 있고, 질 출혈과 복통이 있을 수도 있습니다. 또...   \n",
       "4  고관절 이형성증은 정확한 원인은 아직 밝혀지지 않고 있지만 엉덩이 관절의 관절염의 ...   \n",
       "\n",
       "                                                  치료  \n",
       "0  특별한 조치 없이 증상이 사라집니다. 쉬거나 안정을 취하면 통증이 완화될 수 있으며...  \n",
       "1  현재까지 간질성 방광염을 완치하는 치료 방법은 없습니다. 따라서 간질성 방광염에 대...  \n",
       "2  치료의 목적은 통증, 강직, 피로를 감소시키고 좋은 자세와 육체적, 정신적, 사회적...  \n",
       "3  초음파 검사 등을 통하여 태아가 사망한 것이 확진되면 주 수에 따라 자궁소파술을 시...  \n",
       "4  의사는 출생 직후에 아기의 고관절이 정상적인지 살펴보고 이상이 있으면 초음파 검사로...  "
      ]
     },
     "execution_count": 39,
     "metadata": {},
     "output_type": "execute_result"
    }
   ],
   "source": [
    "data.head()"
   ]
  },
  {
   "cell_type": "code",
   "execution_count": 40,
   "metadata": {},
   "outputs": [],
   "source": [
    "data.drop([\"Unnamed: 0\"], axis = 1, inplace = True)"
   ]
  },
  {
   "cell_type": "code",
   "execution_count": 51,
   "metadata": {},
   "outputs": [],
   "source": [
    "data.drop(data.loc[data[\"증상\"] == \"-\"].index, axis = 0, inplace = True)"
   ]
  },
  {
   "cell_type": "code",
   "execution_count": 54,
   "metadata": {},
   "outputs": [],
   "source": [
    "data.drop(data.loc[data[\"진료과\"] == \"-\"].index, axis = 0, inplace = True)"
   ]
  },
  {
   "cell_type": "code",
   "execution_count": 56,
   "metadata": {},
   "outputs": [
    {
     "data": {
      "text/plain": [
       "(1359, 6)"
      ]
     },
     "execution_count": 56,
     "metadata": {},
     "output_type": "execute_result"
    }
   ],
   "source": [
    "data.shape"
   ]
  },
  {
   "cell_type": "code",
   "execution_count": 57,
   "metadata": {},
   "outputs": [
    {
     "data": {
      "text/html": [
       "<div>\n",
       "<style scoped>\n",
       "    .dataframe tbody tr th:only-of-type {\n",
       "        vertical-align: middle;\n",
       "    }\n",
       "\n",
       "    .dataframe tbody tr th {\n",
       "        vertical-align: top;\n",
       "    }\n",
       "\n",
       "    .dataframe thead th {\n",
       "        text-align: right;\n",
       "    }\n",
       "</style>\n",
       "<table border=\"1\" class=\"dataframe\">\n",
       "  <thead>\n",
       "    <tr style=\"text-align: right;\">\n",
       "      <th></th>\n",
       "      <th>질환명</th>\n",
       "      <th>증상</th>\n",
       "      <th>진료과</th>\n",
       "      <th>원인</th>\n",
       "      <th>상세증상</th>\n",
       "      <th>치료</th>\n",
       "    </tr>\n",
       "  </thead>\n",
       "  <tbody>\n",
       "    <tr>\n",
       "      <th>0</th>\n",
       "      <td>가진통(False labor)</td>\n",
       "      <td>비정상적인 진통, 불규칙적 진통</td>\n",
       "      <td>산부인과</td>\n",
       "      <td>불규칙한 자궁 수축과 이완으로 발생됩니다.</td>\n",
       "      <td>불규칙한 자궁 수축으로 인해 하복부에 국한되어 통증이 나타납니다. 자궁 수축의 간격...</td>\n",
       "      <td>특별한 조치 없이 증상이 사라집니다. 쉬거나 안정을 취하면 통증이 완화될 수 있으며...</td>\n",
       "    </tr>\n",
       "    <tr>\n",
       "      <th>1</th>\n",
       "      <td>간질성 방광염(Interstitial Cystitis)</td>\n",
       "      <td>긴박뇨, 야간뇨, 복부 통증, 빈뇨, 방광 팽만</td>\n",
       "      <td>비뇨의학과</td>\n",
       "      <td>아직까지 명확하게 밝혀진 원인은 없습니다. 다만 방광 상피층의 결함으로 방광 투과성...</td>\n",
       "      <td>소변이 찰 때 심한 방광 통증을 호소합니다. 배뇨 후에 통증이 경감됩니다. 이러한 ...</td>\n",
       "      <td>현재까지 간질성 방광염을 완치하는 치료 방법은 없습니다. 따라서 간질성 방광염에 대...</td>\n",
       "    </tr>\n",
       "    <tr>\n",
       "      <th>2</th>\n",
       "      <td>강직성 척추염(Ankylosing spondylitis)</td>\n",
       "      <td>어깨의 통증, 관절통, 말초 통증, 골반 통증, 엉덩이 통증, 관절의 경직, 요통</td>\n",
       "      <td>재활의학과, 류마티스내과</td>\n",
       "      <td>아직 정확한 원인은 밝혀지지 않았지만, 유전적 연관이 있다고 알려져 있습니다. 강직...</td>\n",
       "      <td>개인에 따라 증상에 많은 차이가 있습니다.가장 흔한 초기 증상은 허리 통증으로, 거...</td>\n",
       "      <td>치료의 목적은 통증, 강직, 피로를 감소시키고 좋은 자세와 육체적, 정신적, 사회적...</td>\n",
       "    </tr>\n",
       "    <tr>\n",
       "      <th>3</th>\n",
       "      <td>계류 유산(Missed abortion)</td>\n",
       "      <td>멍, 커지지 않는 자궁, 복부 통증, 체중감소, 유방의 퇴행, 비출혈, 비정상적 질출혈</td>\n",
       "      <td>산부인과</td>\n",
       "      <td>계류 유산의 정확한 원인은 밝혀지지 않았으나 절반 이상에서 염색체 이상이나 태아의 ...</td>\n",
       "      <td>계류 유산은 별 증상이 없을 수도 있고, 질 출혈과 복통이 있을 수도 있습니다. 또...</td>\n",
       "      <td>초음파 검사 등을 통하여 태아가 사망한 것이 확진되면 주 수에 따라 자궁소파술을 시...</td>\n",
       "    </tr>\n",
       "    <tr>\n",
       "      <th>4</th>\n",
       "      <td>고관절 이형성증(DDH (developmental dysplasia of the h...</td>\n",
       "      <td>다리의 길이가 틀림, 귀두가 울혈됨, 오리걸음, 다리가 잘 안 벌어짐</td>\n",
       "      <td>정형외과, 소아정형외과</td>\n",
       "      <td>고관절 이형성증은 선천적 또는 발달성으로 비구의 발육 부진으로 인해, 고관절 내 공...</td>\n",
       "      <td>고관절 이형성증은 정확한 원인은 아직 밝혀지지 않고 있지만 엉덩이 관절의 관절염의 ...</td>\n",
       "      <td>의사는 출생 직후에 아기의 고관절이 정상적인지 살펴보고 이상이 있으면 초음파 검사로...</td>\n",
       "    </tr>\n",
       "  </tbody>\n",
       "</table>\n",
       "</div>"
      ],
      "text/plain": [
       "                                                 질환명  \\\n",
       "0                                   가진통(False labor)   \n",
       "1                     간질성 방광염(Interstitial Cystitis)   \n",
       "2                    강직성 척추염(Ankylosing spondylitis)   \n",
       "3                             계류 유산(Missed abortion)   \n",
       "4  고관절 이형성증(DDH (developmental dysplasia of the h...   \n",
       "\n",
       "                                                 증상            진료과  \\\n",
       "0                                 비정상적인 진통, 불규칙적 진통           산부인과   \n",
       "1                        긴박뇨, 야간뇨, 복부 통증, 빈뇨, 방광 팽만          비뇨의학과   \n",
       "2     어깨의 통증, 관절통, 말초 통증, 골반 통증, 엉덩이 통증, 관절의 경직, 요통  재활의학과, 류마티스내과   \n",
       "3  멍, 커지지 않는 자궁, 복부 통증, 체중감소, 유방의 퇴행, 비출혈, 비정상적 질출혈           산부인과   \n",
       "4            다리의 길이가 틀림, 귀두가 울혈됨, 오리걸음, 다리가 잘 안 벌어짐   정형외과, 소아정형외과   \n",
       "\n",
       "                                                  원인  \\\n",
       "0                            불규칙한 자궁 수축과 이완으로 발생됩니다.   \n",
       "1  아직까지 명확하게 밝혀진 원인은 없습니다. 다만 방광 상피층의 결함으로 방광 투과성...   \n",
       "2  아직 정확한 원인은 밝혀지지 않았지만, 유전적 연관이 있다고 알려져 있습니다. 강직...   \n",
       "3  계류 유산의 정확한 원인은 밝혀지지 않았으나 절반 이상에서 염색체 이상이나 태아의 ...   \n",
       "4  고관절 이형성증은 선천적 또는 발달성으로 비구의 발육 부진으로 인해, 고관절 내 공...   \n",
       "\n",
       "                                                상세증상  \\\n",
       "0  불규칙한 자궁 수축으로 인해 하복부에 국한되어 통증이 나타납니다. 자궁 수축의 간격...   \n",
       "1  소변이 찰 때 심한 방광 통증을 호소합니다. 배뇨 후에 통증이 경감됩니다. 이러한 ...   \n",
       "2  개인에 따라 증상에 많은 차이가 있습니다.가장 흔한 초기 증상은 허리 통증으로, 거...   \n",
       "3  계류 유산은 별 증상이 없을 수도 있고, 질 출혈과 복통이 있을 수도 있습니다. 또...   \n",
       "4  고관절 이형성증은 정확한 원인은 아직 밝혀지지 않고 있지만 엉덩이 관절의 관절염의 ...   \n",
       "\n",
       "                                                  치료  \n",
       "0  특별한 조치 없이 증상이 사라집니다. 쉬거나 안정을 취하면 통증이 완화될 수 있으며...  \n",
       "1  현재까지 간질성 방광염을 완치하는 치료 방법은 없습니다. 따라서 간질성 방광염에 대...  \n",
       "2  치료의 목적은 통증, 강직, 피로를 감소시키고 좋은 자세와 육체적, 정신적, 사회적...  \n",
       "3  초음파 검사 등을 통하여 태아가 사망한 것이 확진되면 주 수에 따라 자궁소파술을 시...  \n",
       "4  의사는 출생 직후에 아기의 고관절이 정상적인지 살펴보고 이상이 있으면 초음파 검사로...  "
      ]
     },
     "execution_count": 57,
     "metadata": {},
     "output_type": "execute_result"
    }
   ],
   "source": [
    "data.head()"
   ]
  },
  {
   "cell_type": "code",
   "execution_count": 58,
   "metadata": {},
   "outputs": [],
   "source": [
    "data.to_csv(\"질환백과 크롤링 데이터.csv\", encoding = \"utf-8\")\n",
    "data.to_excel(\"질환백과 크롤링 데이터.xlsx\", encoding = \"cp949\")"
   ]
  },
  {
   "cell_type": "code",
   "execution_count": null,
   "metadata": {},
   "outputs": [],
   "source": []
  }
 ],
 "metadata": {
  "kernelspec": {
   "display_name": "Python 3.7.3 64-bit ('first-env': venv)",
   "language": "python",
   "name": "python_defaultSpec_1595658976761"
  },
  "language_info": {
   "codemirror_mode": {
    "name": "ipython",
    "version": 3
   },
   "file_extension": ".py",
   "mimetype": "text/x-python",
   "name": "python",
   "nbconvert_exporter": "python",
   "pygments_lexer": "ipython3",
   "version": "3.7.3-final"
  }
 },
 "nbformat": 4,
 "nbformat_minor": 2
}