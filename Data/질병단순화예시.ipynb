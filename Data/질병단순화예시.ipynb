{
 "cells": [
  {
   "cell_type": "code",
   "execution_count": 1,
   "metadata": {},
   "outputs": [],
   "source": [
    "import pandas as pd\n",
    "import re"
   ]
  },
  {
   "cell_type": "code",
   "execution_count": 8,
   "metadata": {},
   "outputs": [],
   "source": [
    "hong = pd.read_excel(\"의약품제품정보(제품명 전처리 전).xlsx\", sheet_name = \"윤표\")"
   ]
  },
  {
   "cell_type": "code",
   "execution_count": 30,
   "metadata": {},
   "outputs": [
    {
     "data": {
      "text/html": [
       "<div>\n",
       "<style scoped>\n",
       "    .dataframe tbody tr th:only-of-type {\n",
       "        vertical-align: middle;\n",
       "    }\n",
       "\n",
       "    .dataframe tbody tr th {\n",
       "        vertical-align: top;\n",
       "    }\n",
       "\n",
       "    .dataframe thead th {\n",
       "        text-align: right;\n",
       "    }\n",
       "</style>\n",
       "<table border=\"1\" class=\"dataframe\">\n",
       "  <thead>\n",
       "    <tr style=\"text-align: right;\">\n",
       "      <th></th>\n",
       "      <th>품목기준코드</th>\n",
       "      <th>제품명</th>\n",
       "      <th>업체명</th>\n",
       "      <th>허가일</th>\n",
       "      <th>품목구분</th>\n",
       "      <th>허가번호</th>\n",
       "      <th>취소/취하</th>\n",
       "      <th>취소/취하일자</th>\n",
       "      <th>주성분</th>\n",
       "      <th>첨가제</th>\n",
       "      <th>...</th>\n",
       "      <th>제조/수입</th>\n",
       "      <th>마약구분</th>\n",
       "      <th>모양</th>\n",
       "      <th>색상</th>\n",
       "      <th>제형</th>\n",
       "      <th>장축</th>\n",
       "      <th>단축</th>\n",
       "      <th>신약구분</th>\n",
       "      <th>표준코드명</th>\n",
       "      <th>ATC코드</th>\n",
       "    </tr>\n",
       "  </thead>\n",
       "  <tbody>\n",
       "    <tr>\n",
       "      <th>0</th>\n",
       "      <td>201500378</td>\n",
       "      <td>리도라임크림</td>\n",
       "      <td>(주)화이트생명과학</td>\n",
       "      <td>2015-01-26</td>\n",
       "      <td>의약품</td>\n",
       "      <td>557</td>\n",
       "      <td>정상</td>\n",
       "      <td>NaN</td>\n",
       "      <td>리도카인</td>\n",
       "      <td>프로필렌글리콜,글리세린모노스테아레이트,스테아릴알코올,카보머 940,파라옥시벤조산메틸...</td>\n",
       "      <td>...</td>\n",
       "      <td>제조</td>\n",
       "      <td>NaN</td>\n",
       "      <td>NaN</td>\n",
       "      <td>NaN</td>\n",
       "      <td>NaN</td>\n",
       "      <td>NaN</td>\n",
       "      <td>NaN</td>\n",
       "      <td>N</td>\n",
       "      <td>8806252011502,8806252011519</td>\n",
       "      <td>NaN</td>\n",
       "    </tr>\n",
       "    <tr>\n",
       "      <th>1</th>\n",
       "      <td>201402362</td>\n",
       "      <td>리도메인크림</td>\n",
       "      <td>(주)일화</td>\n",
       "      <td>2014-05-23</td>\n",
       "      <td>의약품</td>\n",
       "      <td>5046</td>\n",
       "      <td>정상</td>\n",
       "      <td>NaN</td>\n",
       "      <td>리도카인</td>\n",
       "      <td>프로필렌글리콜,글리세린모노스테아레이트,카보머940,스테아릴알코올,파라옥시벤조산메틸,...</td>\n",
       "      <td>...</td>\n",
       "      <td>제조</td>\n",
       "      <td>NaN</td>\n",
       "      <td>NaN</td>\n",
       "      <td>NaN</td>\n",
       "      <td>NaN</td>\n",
       "      <td>NaN</td>\n",
       "      <td>NaN</td>\n",
       "      <td>N</td>\n",
       "      <td>8806409027400,8806409027417</td>\n",
       "      <td>NaN</td>\n",
       "    </tr>\n",
       "    <tr>\n",
       "      <th>2</th>\n",
       "      <td>202004466</td>\n",
       "      <td>리도솔론크림</td>\n",
       "      <td>이니스트바이오제약(주)</td>\n",
       "      <td>2020-06-18</td>\n",
       "      <td>의약품</td>\n",
       "      <td>5200</td>\n",
       "      <td>정상</td>\n",
       "      <td>NaN</td>\n",
       "      <td>프레드니솔론발레로아세테이트</td>\n",
       "      <td>프로필렌글리콜,부틸레이티드히드록시톨루엔,파라옥시벤조산부틸,폴리소르베이트60,스테아릴...</td>\n",
       "      <td>...</td>\n",
       "      <td>제조</td>\n",
       "      <td>NaN</td>\n",
       "      <td>NaN</td>\n",
       "      <td>NaN</td>\n",
       "      <td>NaN</td>\n",
       "      <td>NaN</td>\n",
       "      <td>NaN</td>\n",
       "      <td>N</td>\n",
       "      <td>8806582044805,8806582044812,8806582044829</td>\n",
       "      <td>NaN</td>\n",
       "    </tr>\n",
       "    <tr>\n",
       "      <th>3</th>\n",
       "      <td>202004467</td>\n",
       "      <td>리도솔론크림</td>\n",
       "      <td>이니스트바이오제약(주)</td>\n",
       "      <td>2020-06-18</td>\n",
       "      <td>의약품</td>\n",
       "      <td>5201</td>\n",
       "      <td>정상</td>\n",
       "      <td>NaN</td>\n",
       "      <td>프레드니솔론발레로아세테이트</td>\n",
       "      <td>프로필렌글리콜,부틸레이티드히드록시톨루엔,파라옥시벤조산부틸,폴리소르베이트60,스테아릴...</td>\n",
       "      <td>...</td>\n",
       "      <td>제조</td>\n",
       "      <td>NaN</td>\n",
       "      <td>NaN</td>\n",
       "      <td>NaN</td>\n",
       "      <td>NaN</td>\n",
       "      <td>NaN</td>\n",
       "      <td>NaN</td>\n",
       "      <td>N</td>\n",
       "      <td>8806582044904,8806582044911,8806582044928</td>\n",
       "      <td>NaN</td>\n",
       "    </tr>\n",
       "    <tr>\n",
       "      <th>4</th>\n",
       "      <td>201604031</td>\n",
       "      <td>리도아에프거즈</td>\n",
       "      <td>(주)퍼슨</td>\n",
       "      <td>2016-06-28</td>\n",
       "      <td>의약품</td>\n",
       "      <td>5063</td>\n",
       "      <td>정상</td>\n",
       "      <td>NaN</td>\n",
       "      <td>리도카인</td>\n",
       "      <td>거즈,폴리소르베이트80,백색바셀린,소르비탄스테아레이트</td>\n",
       "      <td>...</td>\n",
       "      <td>제조</td>\n",
       "      <td>NaN</td>\n",
       "      <td>NaN</td>\n",
       "      <td>NaN</td>\n",
       "      <td>NaN</td>\n",
       "      <td>NaN</td>\n",
       "      <td>NaN</td>\n",
       "      <td>N</td>\n",
       "      <td>8806574011907,8806574011914,8806574011921</td>\n",
       "      <td>NaN</td>\n",
       "    </tr>\n",
       "  </tbody>\n",
       "</table>\n",
       "<p>5 rows × 24 columns</p>\n",
       "</div>"
      ],
      "text/plain": [
       "      품목기준코드      제품명           업체명         허가일 품목구분  허가번호 취소/취하 취소/취하일자  \\\n",
       "0  201500378   리도라임크림    (주)화이트생명과학  2015-01-26  의약품   557    정상     NaN   \n",
       "1  201402362   리도메인크림         (주)일화  2014-05-23  의약품  5046    정상     NaN   \n",
       "2  202004466   리도솔론크림  이니스트바이오제약(주)  2020-06-18  의약품  5200    정상     NaN   \n",
       "3  202004467   리도솔론크림  이니스트바이오제약(주)  2020-06-18  의약품  5201    정상     NaN   \n",
       "4  201604031  리도아에프거즈         (주)퍼슨  2016-06-28  의약품  5063    정상     NaN   \n",
       "\n",
       "              주성분                                                첨가제  ...  \\\n",
       "0            리도카인  프로필렌글리콜,글리세린모노스테아레이트,스테아릴알코올,카보머 940,파라옥시벤조산메틸...  ...   \n",
       "1            리도카인  프로필렌글리콜,글리세린모노스테아레이트,카보머940,스테아릴알코올,파라옥시벤조산메틸,...  ...   \n",
       "2  프레드니솔론발레로아세테이트  프로필렌글리콜,부틸레이티드히드록시톨루엔,파라옥시벤조산부틸,폴리소르베이트60,스테아릴...  ...   \n",
       "3  프레드니솔론발레로아세테이트  프로필렌글리콜,부틸레이티드히드록시톨루엔,파라옥시벤조산부틸,폴리소르베이트60,스테아릴...  ...   \n",
       "4            리도카인                      거즈,폴리소르베이트80,백색바셀린,소르비탄스테아레이트  ...   \n",
       "\n",
       "   제조/수입 마약구분   모양  색상  제형  장축  단축  신약구분  \\\n",
       "0     제조  NaN  NaN NaN NaN NaN NaN     N   \n",
       "1     제조  NaN  NaN NaN NaN NaN NaN     N   \n",
       "2     제조  NaN  NaN NaN NaN NaN NaN     N   \n",
       "3     제조  NaN  NaN NaN NaN NaN NaN     N   \n",
       "4     제조  NaN  NaN NaN NaN NaN NaN     N   \n",
       "\n",
       "                                       표준코드명  ATC코드  \n",
       "0                8806252011502,8806252011519    NaN  \n",
       "1                8806409027400,8806409027417    NaN  \n",
       "2  8806582044805,8806582044812,8806582044829    NaN  \n",
       "3  8806582044904,8806582044911,8806582044928    NaN  \n",
       "4  8806574011907,8806574011914,8806574011921    NaN  \n",
       "\n",
       "[5 rows x 24 columns]"
      ]
     },
     "execution_count": 30,
     "metadata": {},
     "output_type": "execute_result"
    }
   ],
   "source": [
    "hong.head()"
   ]
  },
  {
   "cell_type": "code",
   "execution_count": 11,
   "metadata": {},
   "outputs": [
    {
     "data": {
      "text/plain": [
       "'리도라임크림'"
      ]
     },
     "execution_count": 11,
     "metadata": {},
     "output_type": "execute_result"
    }
   ],
   "source": [
    "hong[\"제품명\"][0].split(\"(\")[0]"
   ]
  },
  {
   "cell_type": "code",
   "execution_count": 21,
   "metadata": {},
   "outputs": [
    {
     "data": {
      "text/plain": [
       "'리도솔론크림프레드니솔론발레로아세테이트'"
      ]
     },
     "execution_count": 21,
     "metadata": {},
     "output_type": "execute_result"
    }
   ],
   "source": [
    "re.sub(\"[^ㄱ-ㅎ가-힣]\",\"\",hong[\"제품명\"][3])"
   ]
  },
  {
   "cell_type": "code",
   "execution_count": 27,
   "metadata": {},
   "outputs": [],
   "source": [
    "def name_cut(x):\n",
    "    x = x.split(\"(\")[0]\n",
    "    x = re.sub(\"[^ㄱ-ㅎ가-힣]\",\"\",x)\n",
    "    x = re.sub\n",
    "    return x                    "
   ]
  },
  {
   "cell_type": "code",
   "execution_count": 29,
   "metadata": {},
   "outputs": [],
   "source": [
    "hong[\"제품명\"] = hong[\"제품명\"].apply(name_cut)"
   ]
  },
  {
   "cell_type": "code",
   "execution_count": 31,
   "metadata": {},
   "outputs": [],
   "source": [
    "hong.to_excel(\"의약품제품정보(윤표 전처리 후).xlsx\")"
   ]
  },
  {
   "cell_type": "code",
   "execution_count": null,
   "metadata": {},
   "outputs": [],
   "source": []
  }
 ],
 "metadata": {
  "kernelspec": {
   "display_name": "Python 3",
   "language": "python",
   "name": "python3"
  },
  "language_info": {
   "codemirror_mode": {
    "name": "ipython",
    "version": 3
   },
   "file_extension": ".py",
   "mimetype": "text/x-python",
   "name": "python",
   "nbconvert_exporter": "python",
   "pygments_lexer": "ipython3",
   "version": "3.7.3"
  }
 },
 "nbformat": 4,
 "nbformat_minor": 2
}
