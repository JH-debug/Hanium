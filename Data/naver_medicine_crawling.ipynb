{
 "cells": [
  {
   "cell_type": "markdown",
   "metadata": {},
   "source": [
    "## 제품명 검색 결과 url 추출"
   ]
  },
  {
   "cell_type": "code",
   "execution_count": 9,
   "metadata": {},
   "outputs": [
    {
     "data": {
      "text/html": [
       "<div>\n",
       "<style scoped>\n",
       "    .dataframe tbody tr th:only-of-type {\n",
       "        vertical-align: middle;\n",
       "    }\n",
       "\n",
       "    .dataframe tbody tr th {\n",
       "        vertical-align: top;\n",
       "    }\n",
       "\n",
       "    .dataframe thead th {\n",
       "        text-align: right;\n",
       "    }\n",
       "</style>\n",
       "<table border=\"1\" class=\"dataframe\">\n",
       "  <thead>\n",
       "    <tr style=\"text-align: right;\">\n",
       "      <th></th>\n",
       "      <th>Unnamed: 0</th>\n",
       "      <th>제품명</th>\n",
       "    </tr>\n",
       "  </thead>\n",
       "  <tbody>\n",
       "    <tr>\n",
       "      <th>0</th>\n",
       "      <td>0</td>\n",
       "      <td>셀레나제마이크로그램퍼오랄액</td>\n",
       "    </tr>\n",
       "    <tr>\n",
       "      <th>1</th>\n",
       "      <td>1</td>\n",
       "      <td>공캡슐호</td>\n",
       "    </tr>\n",
       "    <tr>\n",
       "      <th>2</th>\n",
       "      <td>2</td>\n",
       "      <td>공캡슐호</td>\n",
       "    </tr>\n",
       "    <tr>\n",
       "      <th>3</th>\n",
       "      <td>3</td>\n",
       "      <td>가기코프캡슐</td>\n",
       "    </tr>\n",
       "    <tr>\n",
       "      <th>4</th>\n",
       "      <td>4</td>\n",
       "      <td>가나폴로연질캡슐</td>\n",
       "    </tr>\n",
       "  </tbody>\n",
       "</table>\n",
       "</div>"
      ],
      "text/plain": [
       "   Unnamed: 0             제품명\n",
       "0           0  셀레나제마이크로그램퍼오랄액\n",
       "1           1            공캡슐호\n",
       "2           2            공캡슐호\n",
       "3           3          가기코프캡슐\n",
       "4           4        가나폴로연질캡슐"
      ]
     },
     "execution_count": 9,
     "metadata": {},
     "output_type": "execute_result"
    }
   ],
   "source": [
    "import pandas as pd\n",
    "\n",
    "df = pd.read_excel(\"전처리후 제품명만 데이터.xlsx\")\n",
    "df.head()"
   ]
  },
  {
   "cell_type": "code",
   "execution_count": 2,
   "metadata": {},
   "outputs": [
    {
     "name": "stdout",
     "output_type": "stream",
     "text": [
      "https://terms.naver.com//entry.nhn?docId=2147085&cid=51000&categoryId=51000\n"
     ]
    }
   ],
   "source": [
    "from bs4 import BeautifulSoup\n",
    "import requests   \n",
    "\n",
    "url = \"https://terms.naver.com/medicineSearch.nhn?mode=nameSearch&query=%EC%85%80%EB%A0%88%EB%82%98%EC%A0%9C%EB%A7%88%EC%9D%B4%ED%81%AC%EB%A1%9C%EA%B7%B8%EB%9E%A8%ED%8D%BC%EC%98%A4%EB%9E%84%EC%95%A1\"\n",
    "\n",
    "req = requests.get(url)\n",
    "soup = BeautifulSoup(req.content, 'html.parser')\n",
    "a = soup.select('div strong a')[1]\n",
    "\n",
    "if 'href' in a.attrs:\n",
    "        link = a.attrs['href']        \n",
    "    \n",
    "print(\"https://terms.naver.com/\" + link)"
   ]
  },
  {
   "cell_type": "code",
   "execution_count": 3,
   "metadata": {},
   "outputs": [
    {
     "name": "stdout",
     "output_type": "stream",
     "text": [
      "https://terms.naver.com//entry.nhn?docId=2147085&cid=51000&categoryId=51000\n"
     ]
    }
   ],
   "source": [
    "url = \"https://terms.naver.com/medicineSearch.nhn?mode=nameSearch&query=%EC%85%80%EB%A0%88%EB%82%98%EC%A0%9C%EB%A7%88%EC%9D%B4%ED%81%AC%EB%A1%9C%EA%B7%B8%EB%9E%A8%ED%8D%BC%EC%98%A4%EB%9E%84%EC%95%A1\"\n",
    "\n",
    "req = requests.get(url)\n",
    "soup = BeautifulSoup(req.content, 'html.parser')\n",
    "div = soup.find_all('div', {'class' : 'subject'})\n",
    "\n",
    "for d in div:\n",
    "    a = d.select('a')[0]\n",
    "    if 'href' in a.attrs:\n",
    "        link = a.attrs['href']        \n",
    "    \n",
    "print(\"https://terms.naver.com/\" + link)"
   ]
  },
  {
   "cell_type": "code",
   "execution_count": 3,
   "metadata": {},
   "outputs": [
    {
     "name": "stdout",
     "output_type": "stream",
     "text": [
      "https://terms.naver.com//entry.nhn?docId=2147935&cid=51000&categoryId=51000\n"
     ]
    }
   ],
   "source": [
    "import re\n",
    "\n",
    "url = \"https://terms.naver.com/medicineSearch.nhn?mode=nameSearch&query=가나폴로연질캡슐\"\n",
    "\n",
    "req = requests.get(url)\n",
    "soup = BeautifulSoup(req.content, 'html.parser')\n",
    "title = soup.select('li div strong.title')[0]\n",
    "\n",
    "for a in title.find_all('a', href = re.compile(\"^(/entry.nhn)\")):\n",
    "    link = a.attrs['href']\n",
    "\n",
    "print(\"https://terms.naver.com/\" + link)"
   ]
  },
  {
   "cell_type": "code",
   "execution_count": 2,
   "metadata": {},
   "outputs": [
    {
     "data": {
      "application/vnd.jupyter.widget-view+json": {
       "model_id": "746445ab5bbe4befa01cbd1d6d88e39d",
       "version_major": 2,
       "version_minor": 0
      },
      "text/plain": [
       "HBox(children=(FloatProgress(value=0.0, max=11457.0), HTML(value='')))"
      ]
     },
     "metadata": {},
     "output_type": "display_data"
    },
    {
     "name": "stdout",
     "output_type": "stream",
     "text": [
      "\n"
     ]
    }
   ],
   "source": [
    "from tqdm.notebook import tqdm\n",
    "\n",
    "links = []\n",
    "\n",
    "for i in tqdm(range(len(df['제품명']))):\n",
    "    try:\n",
    "        url = \"https://terms.naver.com/medicineSearch.nhn?mode=nameSearch&query={}\".format(df['제품명'][i])\n",
    "        req = requests.get(url)\n",
    "        soup = BeautifulSoup(req.content, 'html.parser')\n",
    "        title = soup.select('li div strong.title')[0]\n",
    "\n",
    "        for a in title.find_all('a', href = re.compile(\"^(/entry.nhn)\")):\n",
    "                link = a.attrs['href']\n",
    "                links.append(\"https://terms.naver.com/\" + link)\n",
    "    except:\n",
    "        links.append('x')"
   ]
  },
  {
   "cell_type": "code",
   "execution_count": 20,
   "metadata": {},
   "outputs": [
    {
     "data": {
      "text/html": [
       "<div>\n",
       "<style scoped>\n",
       "    .dataframe tbody tr th:only-of-type {\n",
       "        vertical-align: middle;\n",
       "    }\n",
       "\n",
       "    .dataframe tbody tr th {\n",
       "        vertical-align: top;\n",
       "    }\n",
       "\n",
       "    .dataframe thead th {\n",
       "        text-align: right;\n",
       "    }\n",
       "</style>\n",
       "<table border=\"1\" class=\"dataframe\">\n",
       "  <thead>\n",
       "    <tr style=\"text-align: right;\">\n",
       "      <th></th>\n",
       "      <th>links</th>\n",
       "    </tr>\n",
       "  </thead>\n",
       "  <tbody>\n",
       "    <tr>\n",
       "      <th>0</th>\n",
       "      <td>https://terms.naver.com//entry.nhn?docId=21470...</td>\n",
       "    </tr>\n",
       "    <tr>\n",
       "      <th>1</th>\n",
       "      <td>x</td>\n",
       "    </tr>\n",
       "    <tr>\n",
       "      <th>2</th>\n",
       "      <td>x</td>\n",
       "    </tr>\n",
       "    <tr>\n",
       "      <th>3</th>\n",
       "      <td>https://terms.naver.com//entry.nhn?docId=21444...</td>\n",
       "    </tr>\n",
       "    <tr>\n",
       "      <th>4</th>\n",
       "      <td>https://terms.naver.com//entry.nhn?docId=21479...</td>\n",
       "    </tr>\n",
       "    <tr>\n",
       "      <th>...</th>\n",
       "      <td>...</td>\n",
       "    </tr>\n",
       "    <tr>\n",
       "      <th>11452</th>\n",
       "      <td>https://terms.naver.com//entry.nhn?docId=21267...</td>\n",
       "    </tr>\n",
       "    <tr>\n",
       "      <th>11453</th>\n",
       "      <td>https://terms.naver.com//entry.nhn?docId=56850...</td>\n",
       "    </tr>\n",
       "    <tr>\n",
       "      <th>11454</th>\n",
       "      <td>https://terms.naver.com//entry.nhn?docId=51388...</td>\n",
       "    </tr>\n",
       "    <tr>\n",
       "      <th>11455</th>\n",
       "      <td>https://terms.naver.com//entry.nhn?docId=21261...</td>\n",
       "    </tr>\n",
       "    <tr>\n",
       "      <th>11456</th>\n",
       "      <td>https://terms.naver.com//entry.nhn?docId=21281...</td>\n",
       "    </tr>\n",
       "  </tbody>\n",
       "</table>\n",
       "<p>11457 rows × 1 columns</p>\n",
       "</div>"
      ],
      "text/plain": [
       "                                                   links\n",
       "0      https://terms.naver.com//entry.nhn?docId=21470...\n",
       "1                                                      x\n",
       "2                                                      x\n",
       "3      https://terms.naver.com//entry.nhn?docId=21444...\n",
       "4      https://terms.naver.com//entry.nhn?docId=21479...\n",
       "...                                                  ...\n",
       "11452  https://terms.naver.com//entry.nhn?docId=21267...\n",
       "11453  https://terms.naver.com//entry.nhn?docId=56850...\n",
       "11454  https://terms.naver.com//entry.nhn?docId=51388...\n",
       "11455  https://terms.naver.com//entry.nhn?docId=21261...\n",
       "11456  https://terms.naver.com//entry.nhn?docId=21281...\n",
       "\n",
       "[11457 rows x 1 columns]"
      ]
     },
     "execution_count": 20,
     "metadata": {},
     "output_type": "execute_result"
    }
   ],
   "source": [
    "urls = pd.DataFrame(data = {'links' : links }) ; urls"
   ]
  },
  {
   "cell_type": "code",
   "execution_count": 21,
   "metadata": {},
   "outputs": [
    {
     "data": {
      "text/plain": [
       "links    10696\n",
       "dtype: int64"
      ]
     },
     "execution_count": 21,
     "metadata": {},
     "output_type": "execute_result"
    }
   ],
   "source": [
    "urls.nunique()"
   ]
  },
  {
   "cell_type": "code",
   "execution_count": 22,
   "metadata": {},
   "outputs": [],
   "source": [
    "urls.to_excel(\"medicine_url.xlsx\")"
   ]
  },
  {
   "cell_type": "markdown",
   "metadata": {},
   "source": [
    "## 제품 url 불러와 상세정보 크롤링"
   ]
  },
  {
   "cell_type": "code",
   "execution_count": 1,
   "metadata": {},
   "outputs": [
    {
     "data": {
      "text/html": [
       "<div>\n",
       "<style scoped>\n",
       "    .dataframe tbody tr th:only-of-type {\n",
       "        vertical-align: middle;\n",
       "    }\n",
       "\n",
       "    .dataframe tbody tr th {\n",
       "        vertical-align: top;\n",
       "    }\n",
       "\n",
       "    .dataframe thead th {\n",
       "        text-align: right;\n",
       "    }\n",
       "</style>\n",
       "<table border=\"1\" class=\"dataframe\">\n",
       "  <thead>\n",
       "    <tr style=\"text-align: right;\">\n",
       "      <th></th>\n",
       "      <th>Unnamed: 0</th>\n",
       "      <th>links</th>\n",
       "    </tr>\n",
       "  </thead>\n",
       "  <tbody>\n",
       "    <tr>\n",
       "      <th>0</th>\n",
       "      <td>0</td>\n",
       "      <td>https://terms.naver.com//entry.nhn?docId=21470...</td>\n",
       "    </tr>\n",
       "    <tr>\n",
       "      <th>1</th>\n",
       "      <td>1</td>\n",
       "      <td>x</td>\n",
       "    </tr>\n",
       "    <tr>\n",
       "      <th>2</th>\n",
       "      <td>2</td>\n",
       "      <td>x</td>\n",
       "    </tr>\n",
       "    <tr>\n",
       "      <th>3</th>\n",
       "      <td>3</td>\n",
       "      <td>https://terms.naver.com//entry.nhn?docId=21444...</td>\n",
       "    </tr>\n",
       "    <tr>\n",
       "      <th>4</th>\n",
       "      <td>4</td>\n",
       "      <td>https://terms.naver.com//entry.nhn?docId=21479...</td>\n",
       "    </tr>\n",
       "  </tbody>\n",
       "</table>\n",
       "</div>"
      ],
      "text/plain": [
       "   Unnamed: 0                                              links\n",
       "0           0  https://terms.naver.com//entry.nhn?docId=21470...\n",
       "1           1                                                  x\n",
       "2           2                                                  x\n",
       "3           3  https://terms.naver.com//entry.nhn?docId=21444...\n",
       "4           4  https://terms.naver.com//entry.nhn?docId=21479..."
      ]
     },
     "execution_count": 1,
     "metadata": {},
     "output_type": "execute_result"
    }
   ],
   "source": [
    "import pandas as pd\n",
    "\n",
    "urls = pd.read_excel(\"medicine_url.xlsx\")\n",
    "urls.head()"
   ]
  },
  {
   "cell_type": "code",
   "execution_count": 2,
   "metadata": {},
   "outputs": [],
   "source": [
    "# url 정보 없는 것은 제거\n",
    "\n",
    "links = urls[urls['links'] != 'x'] "
   ]
  },
  {
   "cell_type": "code",
   "execution_count": 13,
   "metadata": {},
   "outputs": [],
   "source": [
    "links.to_excel(\"naver_medicine_url.xlsx\")"
   ]
  },
  {
   "cell_type": "code",
   "execution_count": 4,
   "metadata": {},
   "outputs": [
    {
     "name": "stdout",
     "output_type": "stream",
     "text": [
      "\n",
      "['가스민에프정']\n",
      "                                        개개의 기관계용 의약품 > 소화기관용약 > 제산제\n",
      "\n",
      "                                \n",
      " 소화기관용약 \n",
      " 제산제\n",
      "\n",
      "                                \n",
      "· 성상 : 흰색의 장방형 정제\n",
      "건조수산화알루미늄겔 450mg, 탄산마그네슘 288mg\n",
      "밀폐용기, 실온(1~30℃)보관\n",
      "위산과다, 속쓰림, 위부불쾌감, 위부팽만감, 식체(위체), 구역, 구토, 위통, 신트림\n",
      "성인 1회 2정, 1일 3회 식후에 복용\n",
      "1. 다음 환자에는 투여하지 말 것.투석요법을 받고 있는 환자2. 다음 환자에는 신중히 투여할 것. 1) 신장애 환자 2) 다른 약물을 투여받고 있는 환자 3. 부작용 이 약을 투여하는 동안 변비 또는 설사의 증상이 나타날 수 있다. 4. 일반적 주의 1) 정해진 용법ㆍ용량을 잘 지킨다. 2) 2주 정도 투여하여도 증상의 개선이 없을 경우에는 투여를 중지하고 약사 또는 의사와 상의한다. 3) 장기연용을 하지 않는다.4) 신장병의 병력이 있는 환자는 복용전에 의사 또는 약사와 상의한다.5. 소아에 대한 투여 이 약은 7세 이하의 영ㆍ유아에게 투여하지 않는다. 6. 저장상의 주의 1) 소아의 손이 닿지 않는 곳에 보관한다. 2) 직사일광을 피하고 되도록이면 서늘한 곳에 보관한다. 3) 오용을 막고 품질의 보존을 위하여 다른 용기에 바꾸어 넣지 않는다.\n"
     ]
    }
   ],
   "source": [
    "from bs4 import BeautifulSoup\n",
    "import requests   \n",
    "\n",
    "제품 = []\n",
    "식약처분류 = []\n",
    "외형정보 = []\n",
    "성분정보 = []\n",
    "저장방법 = []\n",
    "효능효과 = []\n",
    "용법용량 = []\n",
    "주의사항 = []\n",
    "\n",
    "url = urls['links'][10]\n",
    "req = requests.get(url)\n",
    "soup = BeautifulSoup(req.content, 'html.parser')\n",
    "제품.append(soup.select('h2.headword')[0].text)\n",
    "식약처분류.append(soup.select('tbody td')[0].text)\n",
    "외형정보.append(soup.select('p.txt')[0].text)\n",
    "성분정보.append(soup.select('p.txt')[1].text)\n",
    "저장방법.append(soup.select('p.txt')[2].text)\n",
    "효능효과.append(soup.select('p.txt')[3].text)\n",
    "용법용량.append(soup.select('p.txt')[4].text)\n",
    "주의사항.append(soup.select('p.txt')[5].text)\n",
    "\n",
    "print(제품)\n",
    "print(식약처분류[0].strip('\\n'))\n",
    "print(식약처분류[0].split('>')[1].strip('\\n'))\n",
    "print(식약처분류[0].split('>')[2].strip('\\n'))\n",
    "print(외형정보[0].strip('\\n'))\n",
    "print(성분정보[0].strip('\\n'))\n",
    "print(저장방법[0].strip('\\n'))\n",
    "print(효능효과[0].strip('\\n'))\n",
    "print(용법용량[0].strip('\\n'))\n",
    "print(주의사항[0].strip('\\n'))"
   ]
  },
  {
   "cell_type": "code",
   "execution_count": 5,
   "metadata": {},
   "outputs": [
    {
     "data": {
      "application/vnd.jupyter.widget-view+json": {
       "model_id": "05b9b34b09f4427fb1aa23e4a07d3a11",
       "version_major": 2,
       "version_minor": 0
      },
      "text/plain": [
       "HBox(children=(FloatProgress(value=0.0, max=11136.0), HTML(value='')))"
      ]
     },
     "metadata": {},
     "output_type": "display_data"
    },
    {
     "name": "stdout",
     "output_type": "stream",
     "text": [
      "\n"
     ]
    }
   ],
   "source": [
    "from tqdm.notebook import tqdm\n",
    "import time\n",
    "import re\n",
    "\n",
    "result_list = []\n",
    "\n",
    "for link in tqdm((links['links'])):\n",
    "    req = requests.get(link)\n",
    "    soup = BeautifulSoup(req.text, 'html.parser')\n",
    "   \n",
    "    try:\n",
    "        제품 = soup.select('h2.headword')[0].text\n",
    "        식약처분류1 = re.sub(\"[\\r\\n\\t]\", \"\", str(soup.select('tbody td')[0].text.strip().split('>')[0]))\n",
    "        식약처분류2 = re.sub(\"[\\r\\n\\t]\", \"\", str(soup.select('tbody td')[0].text.strip().split('>')[1]))\n",
    "        식약처분류3 = re.sub(\"[\\r\\n\\t]\", \"\", str(soup.select('tbody td')[0].text.strip().split('>')[2]))\n",
    "        외형정보 =  re.sub(\"[\\r\\n\\t]\", \"\", str(soup.select('p.txt')[0].text.strip()))\n",
    "        성분정보 =  re.sub(\"[\\r\\n\\t]\", \"\", str(soup.select('p.txt')[1].text.strip()))\n",
    "        저장방법 =  re.sub(\"[\\r\\n\\t]\", \"\", str(soup.select('p.txt')[2].text.strip()))\n",
    "        효능효과 =  re.sub(\"[\\r\\n\\t]\", \"\", str(soup.select('p.txt')[3].text.strip()))\n",
    "        용법용량 =  re.sub(\"[\\r\\n\\t]\", \"\", str(soup.select('p.txt')[4].text.strip()))\n",
    "        주의사항 =  re.sub(\"[\\r\\n\\t]\", \"\", str(soup.select('p.txt')[5].text.strip()))\n",
    "    except:\n",
    "        제품 = 'x'\n",
    "        식약처분류1 = 'x'\n",
    "        식약처분류2 = 'x'\n",
    "        식약처분류3 = 'x'\n",
    "        외형정보 = 'x'\n",
    "        성분정보 = 'x'\n",
    "        저장방법 = 'x'\n",
    "        효능효과 = 'x'\n",
    "        용법용량 = 'x'\n",
    "        주의사항 = 'x'\n",
    "        \n",
    "    result = 제품, 식약처분류1, 식약처분류2, 식약처분류3, 외형정보, 성분정보, 저장방법, 효능효과, 용법용량, 주의사항\n",
    "    result_list.append(result)\n",
    "        \n",
    "    time.sleep(0.5)"
   ]
  },
  {
   "cell_type": "code",
   "execution_count": 6,
   "metadata": {},
   "outputs": [],
   "source": [
    "medicine_data = pd.DataFrame(result_list, columns = ['제품', '식약처분류1', '식약처분류2', '식약처분류3', '외형정보', '성분정보', '저장방법', '효능효과', '용법용량', '주의사항'])"
   ]
  },
  {
   "cell_type": "code",
   "execution_count": 7,
   "metadata": {},
   "outputs": [
    {
     "data": {
      "text/html": [
       "<div>\n",
       "<style scoped>\n",
       "    .dataframe tbody tr th:only-of-type {\n",
       "        vertical-align: middle;\n",
       "    }\n",
       "\n",
       "    .dataframe tbody tr th {\n",
       "        vertical-align: top;\n",
       "    }\n",
       "\n",
       "    .dataframe thead th {\n",
       "        text-align: right;\n",
       "    }\n",
       "</style>\n",
       "<table border=\"1\" class=\"dataframe\">\n",
       "  <thead>\n",
       "    <tr style=\"text-align: right;\">\n",
       "      <th></th>\n",
       "      <th>제품</th>\n",
       "      <th>식약처분류1</th>\n",
       "      <th>식약처분류2</th>\n",
       "      <th>식약처분류3</th>\n",
       "      <th>외형정보</th>\n",
       "      <th>성분정보</th>\n",
       "      <th>저장방법</th>\n",
       "      <th>효능효과</th>\n",
       "      <th>용법용량</th>\n",
       "      <th>주의사항</th>\n",
       "    </tr>\n",
       "  </thead>\n",
       "  <tbody>\n",
       "    <tr>\n",
       "      <th>0</th>\n",
       "      <td>1.셀레나제100μg퍼오랄액 2.셀레나제티퍼오랄액</td>\n",
       "      <td>대사성 의약품</td>\n",
       "      <td>자양강장변질제</td>\n",
       "      <td>무기질제제</td>\n",
       "      <td>· 성상 : 흰색 플라스틱 용기에 든 무색 투명한 액제</td>\n",
       "      <td>아셀렌산나트륨오수화물 0.332mg/2mL, 아셀렌산나트륨오수화물 1.66mg/10mL</td>\n",
       "      <td>기밀용기, 상온(15~25℃)</td>\n",
       "      <td>[허가사항변경(2012년 재평가) 의약품관리총괄과-9301, 2013.12.30]영...</td>\n",
       "      <td>셀레늄으로서 1일 100μg(2mL)을 복용하며, 1일 셀레늄으로 200μg(4mL...</td>\n",
       "      <td>[허가사항변경(2012년 재평가) 의약품관리총괄과-9301, 2013.12.30]1...</td>\n",
       "    </tr>\n",
       "    <tr>\n",
       "      <th>1</th>\n",
       "      <td>가기코프캡슐</td>\n",
       "      <td>개개의 기관계용 의약품</td>\n",
       "      <td>호흡기관용약</td>\n",
       "      <td>진해거담제</td>\n",
       "      <td>· 성상 : 이 약은 백색의 내용물이 든 상.하 미황색으로된 경질캅셀제이다.</td>\n",
       "      <td>DL-메틸에페드린염산염 12.5mg, 구아야콜설폰산칼륨 46.67mg, 노스카핀 1...</td>\n",
       "      <td>기밀용기, 실온보관(1-30℃)</td>\n",
       "      <td>기침, 가래</td>\n",
       "      <td>성인 : 1회 2캅셀, 1일 3회 식후복용</td>\n",
       "      <td>1. 다음 환자에는 투여하지 말 것.   임부 또는 임신하고 있을 가능성이 있는 부...</td>\n",
       "    </tr>\n",
       "    <tr>\n",
       "      <th>2</th>\n",
       "      <td>가나폴로연질캡슐</td>\n",
       "      <td>대사성 의약품</td>\n",
       "      <td>비타민제</td>\n",
       "      <td>혼합비타민제(비타민A, D 혼합제를 제외)</td>\n",
       "      <td>· 성상 : 황색의 내용물을 함유하는 적갈색의 연질캡슐제· 제형 : 연질캡슐· 모양...</td>\n",
       "      <td>니코틴산아미드 20mg, 리보플라빈 3mg, 아스코르브산 75mg, 콜레칼시페롤유 ...</td>\n",
       "      <td>기밀용기, 실온(1~30℃)보관</td>\n",
       "      <td>1. 다음 경우의 비타민 A, B1, B2, C, D의 보급- 육체피로, 임신ㆍ수유...</td>\n",
       "      <td>성인 1일 2회, 1회 1캡슐 복용</td>\n",
       "      <td>1. 경고 임부에 비타민A (레티놀)를 1일 5000 I.U. 이상 투여하는 경우에...</td>\n",
       "    </tr>\n",
       "    <tr>\n",
       "      <th>3</th>\n",
       "      <td>가네쿨연질캡슐</td>\n",
       "      <td>대사성 의약품</td>\n",
       "      <td>기타의 대사성 의약품</td>\n",
       "      <td>따로 분류되지 않는 대사성 의약품</td>\n",
       "      <td>· 성상 : 유백색의 점조성 내용물이 든 갈색의 연질캡슐제· 제형 : 연질캡슐· 모...</td>\n",
       "      <td>L-시스틴 250mg, 콜린타르타르산염 250mg</td>\n",
       "      <td>기밀용기, 실온(1～30℃)보관</td>\n",
       "      <td>간기능 저하로 인한 소화불량의 보조치료</td>\n",
       "      <td>성인 : 1일 1~2캡슐을 식전 또는 소화불량시 복용하며 1일 4캡슐을 초과하지 않는다.</td>\n",
       "      <td>1. 다음과 같은 사람은 이 약을 복용하지 말 것.- 중증의 간세포기능부전이나 담도...</td>\n",
       "    </tr>\n",
       "    <tr>\n",
       "      <th>4</th>\n",
       "      <td>가네탑골드연질캡슐</td>\n",
       "      <td>대사성 의약품</td>\n",
       "      <td>기타의 대사성 의약품</td>\n",
       "      <td>간장질환용제</td>\n",
       "      <td>· 성상 : 황갈색의 내용물을 함유하는 암갈색의 장방형 연질캡슐제· 제형 : 연질캡...</td>\n",
       "      <td>니코틴산아미드 12mg, 시아노코발라민 1.2μg, 밀크시슬열매건조엑스 200mg,...</td>\n",
       "      <td>차광기밀용기, 실온보관(1～30℃)</td>\n",
       "      <td>[허가사항변경(2016년 재평가), 의약품안전평가과-7412, 2017.12.21....</td>\n",
       "      <td>[허가사항변경(2016년 재평가), 의약품안전평가과-7412, 2017.12.21....</td>\n",
       "      <td>[허가사항변경(2016년 재평가), 의약품안전평가과-7412, 2017.12.21....</td>\n",
       "    </tr>\n",
       "  </tbody>\n",
       "</table>\n",
       "</div>"
      ],
      "text/plain": [
       "                             제품         식약처분류1         식약처분류2  \\\n",
       "0  1.셀레나제100μg퍼오랄액 2.셀레나제티퍼오랄액        대사성 의약품        자양강장변질제    \n",
       "1                        가기코프캡슐  개개의 기관계용 의약품         호흡기관용약    \n",
       "2                      가나폴로연질캡슐       대사성 의약품           비타민제    \n",
       "3                       가네쿨연질캡슐       대사성 의약품    기타의 대사성 의약품    \n",
       "4                     가네탑골드연질캡슐       대사성 의약품    기타의 대사성 의약품    \n",
       "\n",
       "                     식약처분류3  \\\n",
       "0                     무기질제제   \n",
       "1                     진해거담제   \n",
       "2   혼합비타민제(비타민A, D 혼합제를 제외)   \n",
       "3        따로 분류되지 않는 대사성 의약품   \n",
       "4                    간장질환용제   \n",
       "\n",
       "                                                외형정보  \\\n",
       "0                     · 성상 : 흰색 플라스틱 용기에 든 무색 투명한 액제   \n",
       "1         · 성상 : 이 약은 백색의 내용물이 든 상.하 미황색으로된 경질캅셀제이다.   \n",
       "2  · 성상 : 황색의 내용물을 함유하는 적갈색의 연질캡슐제· 제형 : 연질캡슐· 모양...   \n",
       "3  · 성상 : 유백색의 점조성 내용물이 든 갈색의 연질캡슐제· 제형 : 연질캡슐· 모...   \n",
       "4  · 성상 : 황갈색의 내용물을 함유하는 암갈색의 장방형 연질캡슐제· 제형 : 연질캡...   \n",
       "\n",
       "                                                성분정보                 저장방법  \\\n",
       "0   아셀렌산나트륨오수화물 0.332mg/2mL, 아셀렌산나트륨오수화물 1.66mg/10mL     기밀용기, 상온(15~25℃)   \n",
       "1  DL-메틸에페드린염산염 12.5mg, 구아야콜설폰산칼륨 46.67mg, 노스카핀 1...    기밀용기, 실온보관(1-30℃)   \n",
       "2  니코틴산아미드 20mg, 리보플라빈 3mg, 아스코르브산 75mg, 콜레칼시페롤유 ...    기밀용기, 실온(1~30℃)보관   \n",
       "3                        L-시스틴 250mg, 콜린타르타르산염 250mg    기밀용기, 실온(1～30℃)보관   \n",
       "4  니코틴산아미드 12mg, 시아노코발라민 1.2μg, 밀크시슬열매건조엑스 200mg,...  차광기밀용기, 실온보관(1～30℃)   \n",
       "\n",
       "                                                효능효과  \\\n",
       "0  [허가사항변경(2012년 재평가) 의약품관리총괄과-9301, 2013.12.30]영...   \n",
       "1                                             기침, 가래   \n",
       "2  1. 다음 경우의 비타민 A, B1, B2, C, D의 보급- 육체피로, 임신ㆍ수유...   \n",
       "3                              간기능 저하로 인한 소화불량의 보조치료   \n",
       "4  [허가사항변경(2016년 재평가), 의약품안전평가과-7412, 2017.12.21....   \n",
       "\n",
       "                                                용법용량  \\\n",
       "0  셀레늄으로서 1일 100μg(2mL)을 복용하며, 1일 셀레늄으로 200μg(4mL...   \n",
       "1                            성인 : 1회 2캅셀, 1일 3회 식후복용   \n",
       "2                                성인 1일 2회, 1회 1캡슐 복용   \n",
       "3  성인 : 1일 1~2캡슐을 식전 또는 소화불량시 복용하며 1일 4캡슐을 초과하지 않는다.   \n",
       "4  [허가사항변경(2016년 재평가), 의약품안전평가과-7412, 2017.12.21....   \n",
       "\n",
       "                                                주의사항  \n",
       "0  [허가사항변경(2012년 재평가) 의약품관리총괄과-9301, 2013.12.30]1...  \n",
       "1  1. 다음 환자에는 투여하지 말 것.   임부 또는 임신하고 있을 가능성이 있는 부...  \n",
       "2  1. 경고 임부에 비타민A (레티놀)를 1일 5000 I.U. 이상 투여하는 경우에...  \n",
       "3  1. 다음과 같은 사람은 이 약을 복용하지 말 것.- 중증의 간세포기능부전이나 담도...  \n",
       "4  [허가사항변경(2016년 재평가), 의약품안전평가과-7412, 2017.12.21....  "
      ]
     },
     "execution_count": 7,
     "metadata": {},
     "output_type": "execute_result"
    }
   ],
   "source": [
    "medicine_data.head()"
   ]
  },
  {
   "cell_type": "code",
   "execution_count": 8,
   "metadata": {},
   "outputs": [],
   "source": [
    "medicine_data.to_excel(\"naver_medicine_description.xlsx\")"
   ]
  },
  {
   "cell_type": "code",
   "execution_count": null,
   "metadata": {},
   "outputs": [],
   "source": []
  }
 ],
 "metadata": {
  "kernelspec": {
   "display_name": "Python 3",
   "language": "python",
   "name": "python3"
  },
  "language_info": {
   "codemirror_mode": {
    "name": "ipython",
    "version": 3
   },
   "file_extension": ".py",
   "mimetype": "text/x-python",
   "name": "python",
   "nbconvert_exporter": "python",
   "pygments_lexer": "ipython3",
   "version": "3.7.3"
  }
 },
 "nbformat": 4,
 "nbformat_minor": 2
}
