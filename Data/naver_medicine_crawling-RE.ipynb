{
 "cells": [
  {
   "cell_type": "markdown",
   "metadata": {},
   "source": [
    "## 제품명 검색 결과 url 추출"
   ]
  },
  {
   "cell_type": "code",
   "execution_count": 32,
   "metadata": {},
   "outputs": [
    {
     "data": {
      "text/html": [
       "<div>\n",
       "<style scoped>\n",
       "    .dataframe tbody tr th:only-of-type {\n",
       "        vertical-align: middle;\n",
       "    }\n",
       "\n",
       "    .dataframe tbody tr th {\n",
       "        vertical-align: top;\n",
       "    }\n",
       "\n",
       "    .dataframe thead th {\n",
       "        text-align: right;\n",
       "    }\n",
       "</style>\n",
       "<table border=\"1\" class=\"dataframe\">\n",
       "  <thead>\n",
       "    <tr style=\"text-align: right;\">\n",
       "      <th></th>\n",
       "      <th>disease</th>\n",
       "      <th>medicine</th>\n",
       "    </tr>\n",
       "  </thead>\n",
       "  <tbody>\n",
       "    <tr>\n",
       "      <th>0</th>\n",
       "      <td>소화불량</td>\n",
       "      <td>트라부틴정</td>\n",
       "    </tr>\n",
       "    <tr>\n",
       "      <th>1</th>\n",
       "      <td>소화불량</td>\n",
       "      <td>훼스탈 골드</td>\n",
       "    </tr>\n",
       "    <tr>\n",
       "      <th>2</th>\n",
       "      <td>소화불량</td>\n",
       "      <td>훼스탈플러스정</td>\n",
       "    </tr>\n",
       "    <tr>\n",
       "      <th>3</th>\n",
       "      <td>편두통</td>\n",
       "      <td>미가펜 에스</td>\n",
       "    </tr>\n",
       "    <tr>\n",
       "      <th>4</th>\n",
       "      <td>편두통</td>\n",
       "      <td>마이드린</td>\n",
       "    </tr>\n",
       "  </tbody>\n",
       "</table>\n",
       "</div>"
      ],
      "text/plain": [
       "  disease medicine\n",
       "0    소화불량    트라부틴정\n",
       "1    소화불량   훼스탈 골드\n",
       "2    소화불량  훼스탈플러스정\n",
       "3     편두통   미가펜 에스\n",
       "4     편두통     마이드린"
      ]
     },
     "execution_count": 32,
     "metadata": {},
     "output_type": "execute_result"
    }
   ],
   "source": [
    "import pandas as pd\n",
    "\n",
    "df = pd.read_excel(\"의약품.xlsx\")\n",
    "df.head()"
   ]
  },
  {
   "cell_type": "code",
   "execution_count": 33,
   "metadata": {},
   "outputs": [
    {
     "data": {
      "application/vnd.jupyter.widget-view+json": {
       "model_id": "8c0f868a54bc4a20984615f2cb53ceaa",
       "version_major": 2,
       "version_minor": 0
      },
      "text/plain": [
       "HBox(children=(FloatProgress(value=0.0, max=140.0), HTML(value='')))"
      ]
     },
     "metadata": {},
     "output_type": "display_data"
    },
    {
     "name": "stdout",
     "output_type": "stream",
     "text": [
      "\n"
     ]
    }
   ],
   "source": [
    "from bs4 import BeautifulSoup\n",
    "import requests   \n",
    "import re\n",
    "from tqdm.notebook import tqdm\n",
    "\n",
    "links = []\n",
    "\n",
    "for i in tqdm(range(len(df['medicine']))):\n",
    "    try:\n",
    "        url = \"https://terms.naver.com/medicineSearch.nhn?mode=nameSearch&query={}\".format(df['medicine'][i])\n",
    "        req = requests.get(url)\n",
    "        soup = BeautifulSoup(req.content, 'html.parser')\n",
    "        title = soup.select('li div strong.title')[0]\n",
    "\n",
    "        for a in title.find_all('a', href = re.compile(\"^(/entry.nhn)\")):\n",
    "                link = a.attrs['href']\n",
    "                links.append(\"https://terms.naver.com/\" + link)\n",
    "    except:\n",
    "        links.append('x')"
   ]
  },
  {
   "cell_type": "code",
   "execution_count": 34,
   "metadata": {},
   "outputs": [
    {
     "data": {
      "text/html": [
       "<div>\n",
       "<style scoped>\n",
       "    .dataframe tbody tr th:only-of-type {\n",
       "        vertical-align: middle;\n",
       "    }\n",
       "\n",
       "    .dataframe tbody tr th {\n",
       "        vertical-align: top;\n",
       "    }\n",
       "\n",
       "    .dataframe thead th {\n",
       "        text-align: right;\n",
       "    }\n",
       "</style>\n",
       "<table border=\"1\" class=\"dataframe\">\n",
       "  <thead>\n",
       "    <tr style=\"text-align: right;\">\n",
       "      <th></th>\n",
       "      <th>links</th>\n",
       "    </tr>\n",
       "  </thead>\n",
       "  <tbody>\n",
       "    <tr>\n",
       "      <th>0</th>\n",
       "      <td>https://terms.naver.com//entry.nhn?docId=21239...</td>\n",
       "    </tr>\n",
       "    <tr>\n",
       "      <th>1</th>\n",
       "      <td>https://terms.naver.com//entry.nhn?docId=21353...</td>\n",
       "    </tr>\n",
       "    <tr>\n",
       "      <th>2</th>\n",
       "      <td>https://terms.naver.com//entry.nhn?docId=21353...</td>\n",
       "    </tr>\n",
       "    <tr>\n",
       "      <th>3</th>\n",
       "      <td>https://terms.naver.com//entry.nhn?docId=58662...</td>\n",
       "    </tr>\n",
       "    <tr>\n",
       "      <th>4</th>\n",
       "      <td>https://terms.naver.com//entry.nhn?docId=21399...</td>\n",
       "    </tr>\n",
       "    <tr>\n",
       "      <th>...</th>\n",
       "      <td>...</td>\n",
       "    </tr>\n",
       "    <tr>\n",
       "      <th>135</th>\n",
       "      <td>https://terms.naver.com//entry.nhn?docId=21290...</td>\n",
       "    </tr>\n",
       "    <tr>\n",
       "      <th>136</th>\n",
       "      <td>https://terms.naver.com//entry.nhn?docId=21417...</td>\n",
       "    </tr>\n",
       "    <tr>\n",
       "      <th>137</th>\n",
       "      <td>https://terms.naver.com//entry.nhn?docId=21243...</td>\n",
       "    </tr>\n",
       "    <tr>\n",
       "      <th>138</th>\n",
       "      <td>https://terms.naver.com//entry.nhn?docId=21290...</td>\n",
       "    </tr>\n",
       "    <tr>\n",
       "      <th>139</th>\n",
       "      <td>https://terms.naver.com//entry.nhn?docId=56681...</td>\n",
       "    </tr>\n",
       "  </tbody>\n",
       "</table>\n",
       "<p>140 rows × 1 columns</p>\n",
       "</div>"
      ],
      "text/plain": [
       "                                                 links\n",
       "0    https://terms.naver.com//entry.nhn?docId=21239...\n",
       "1    https://terms.naver.com//entry.nhn?docId=21353...\n",
       "2    https://terms.naver.com//entry.nhn?docId=21353...\n",
       "3    https://terms.naver.com//entry.nhn?docId=58662...\n",
       "4    https://terms.naver.com//entry.nhn?docId=21399...\n",
       "..                                                 ...\n",
       "135  https://terms.naver.com//entry.nhn?docId=21290...\n",
       "136  https://terms.naver.com//entry.nhn?docId=21417...\n",
       "137  https://terms.naver.com//entry.nhn?docId=21243...\n",
       "138  https://terms.naver.com//entry.nhn?docId=21290...\n",
       "139  https://terms.naver.com//entry.nhn?docId=56681...\n",
       "\n",
       "[140 rows x 1 columns]"
      ]
     },
     "execution_count": 34,
     "metadata": {},
     "output_type": "execute_result"
    }
   ],
   "source": [
    "urls = pd.DataFrame(data = {'links' : links }) ; urls"
   ]
  },
  {
   "cell_type": "code",
   "execution_count": 35,
   "metadata": {},
   "outputs": [
    {
     "data": {
      "text/plain": [
       "links    103\n",
       "dtype: int64"
      ]
     },
     "execution_count": 35,
     "metadata": {},
     "output_type": "execute_result"
    }
   ],
   "source": [
    "urls.nunique()"
   ]
  },
  {
   "cell_type": "code",
   "execution_count": 55,
   "metadata": {
    "scrolled": true
   },
   "outputs": [
    {
     "data": {
      "text/html": [
       "<div>\n",
       "<style scoped>\n",
       "    .dataframe tbody tr th:only-of-type {\n",
       "        vertical-align: middle;\n",
       "    }\n",
       "\n",
       "    .dataframe tbody tr th {\n",
       "        vertical-align: top;\n",
       "    }\n",
       "\n",
       "    .dataframe thead th {\n",
       "        text-align: right;\n",
       "    }\n",
       "</style>\n",
       "<table border=\"1\" class=\"dataframe\">\n",
       "  <thead>\n",
       "    <tr style=\"text-align: right;\">\n",
       "      <th></th>\n",
       "      <th>disease</th>\n",
       "      <th>medicine</th>\n",
       "      <th>Unnamed: 0</th>\n",
       "      <th>links</th>\n",
       "    </tr>\n",
       "  </thead>\n",
       "  <tbody>\n",
       "    <tr>\n",
       "      <th>0</th>\n",
       "      <td>소화불량</td>\n",
       "      <td>트라부틴정</td>\n",
       "      <td>0</td>\n",
       "      <td>https://terms.naver.com//entry.nhn?docId=21239...</td>\n",
       "    </tr>\n",
       "    <tr>\n",
       "      <th>1</th>\n",
       "      <td>소화불량</td>\n",
       "      <td>훼스탈 골드</td>\n",
       "      <td>1</td>\n",
       "      <td>https://terms.naver.com//entry.nhn?docId=21353...</td>\n",
       "    </tr>\n",
       "    <tr>\n",
       "      <th>2</th>\n",
       "      <td>소화불량</td>\n",
       "      <td>훼스탈플러스정</td>\n",
       "      <td>2</td>\n",
       "      <td>https://terms.naver.com//entry.nhn?docId=21353...</td>\n",
       "    </tr>\n",
       "    <tr>\n",
       "      <th>3</th>\n",
       "      <td>편두통</td>\n",
       "      <td>미가펜 에스</td>\n",
       "      <td>3</td>\n",
       "      <td>https://terms.naver.com//entry.nhn?docId=58662...</td>\n",
       "    </tr>\n",
       "    <tr>\n",
       "      <th>4</th>\n",
       "      <td>편두통</td>\n",
       "      <td>마이드린</td>\n",
       "      <td>4</td>\n",
       "      <td>https://terms.naver.com//entry.nhn?docId=21399...</td>\n",
       "    </tr>\n",
       "  </tbody>\n",
       "</table>\n",
       "</div>"
      ],
      "text/plain": [
       "  disease medicine  Unnamed: 0  \\\n",
       "0    소화불량    트라부틴정           0   \n",
       "1    소화불량   훼스탈 골드           1   \n",
       "2    소화불량  훼스탈플러스정           2   \n",
       "3     편두통   미가펜 에스           3   \n",
       "4     편두통     마이드린           4   \n",
       "\n",
       "                                               links  \n",
       "0  https://terms.naver.com//entry.nhn?docId=21239...  \n",
       "1  https://terms.naver.com//entry.nhn?docId=21353...  \n",
       "2  https://terms.naver.com//entry.nhn?docId=21353...  \n",
       "3  https://terms.naver.com//entry.nhn?docId=58662...  \n",
       "4  https://terms.naver.com//entry.nhn?docId=21399...  "
      ]
     },
     "execution_count": 55,
     "metadata": {},
     "output_type": "execute_result"
    }
   ],
   "source": [
    "data = pd.concat([df, urls], axis = 1)\n",
    "data.head()"
   ]
  },
  {
   "cell_type": "code",
   "execution_count": 121,
   "metadata": {},
   "outputs": [],
   "source": [
    "data.to_excel('의약품.xlsx')"
   ]
  },
  {
   "cell_type": "markdown",
   "metadata": {},
   "source": [
    "## 제품 url 불러와 상세정보 크롤링"
   ]
  },
  {
   "cell_type": "code",
   "execution_count": 95,
   "metadata": {
    "scrolled": true
   },
   "outputs": [
    {
     "name": "stdout",
     "output_type": "stream",
     "text": [
      "['트라부틴정']\n",
      "                                        경남제약\n",
      "\n",
      "                                \n",
      "트리메부틴말레산염 100mg\n",
      "밀폐용기,실온(1~30℃)보관\n",
      "1. 주효능 효과1) 식도역류 및 열공헤르니아, 위, 십이지장염, 위, 십이지장궤양에 있어서의 소화기능이상 (복통(배아픔), 소화불량, 구역, 구토)2) 과민성대장증후군 및 경련성 결장3) 소아 질환 : 습관성 구토, 비감염성 장관통과장애 (변비, 설사), 동요(안절부절)자극, 수면장애\n",
      "성인 : 트리메부틴말레산염으로서 1회 100-200mg 1일 3회 식전에 경구투여한다(복용한다).연령(나이), 증상에 따라 적절히 증감한다.\n",
      "1. 다음 환자에는 투여하지 말 것이 약은 유당(젖당)수화물을 함유하고 있으므로, 갈락토오스 불내성(galactose intolerance), Lapp 유당(젖당)분해효소 결핍증(Lapp lactase deficiency) 또는 포도당-갈락토오스 흡수장애(glucose-galactose malabsorption) 등의 유전적인 문제가 있는 환자에게는 투여하면 안 된다.2. 부작용1) 소화기계 : 드물게 변비, 설사, 복명(창자 가스소리), 구역, 구토, 소화장애, 구갈(목마름), 구내(입안)마비감 등이 나타날 수 있다.2) 순환기계 : 드물게 심계항진(두근거림)이 나타날 수 있다.3) 정신신경계 : 드물게 피로감, 졸음, 현기(어지러움), 권태감, 두통 등이 나타날수 있다.4) 간장 : 드물게 GOT, GPT 상승이 나타날 수 있다.5) 과민증 : 드물게 발진 등이 나타날 수 있으므로 이러한 증상이 나타나는 경우에는 투여를 중지한다.3. 임부에 대한 투여임신중의 투여에 대한 안전성은 확립되어 있지 않으므로 임부 또는 임신하고 있을 가능성이 있는 부인에는 치료상의 유익성이 위험성을 상회(웃돎)한다고 판단되는 경우에만 투여한다.4. 수유부에 대한 투여수유중의 투여에 대한 안전성은 확립되어 있지 않으므로 수유중인 부인에는 투여를 피하고 부득이 투여시는 수유를 중지한다.\n",
      "[{'https://dthumb-phinf.pstatic.net/?src=%22https%3A%2F%2Fdbscthumb-phinf.pstatic.net%2F3323_000_9%2F20180711200502152_A4FO7DVH6.png%2FP_2009090700205_.png%3Ftype%3Dm4500_4500_fst%26wm%3DN%22&twidth=520&theight=287&opts=17'}]\n"
     ]
    }
   ],
   "source": [
    "from bs4 import BeautifulSoup\n",
    "import requests   \n",
    "\n",
    "제품 = []\n",
    "제조사 = []\n",
    "성분정보 = []\n",
    "저장방법 = []\n",
    "효능효과 = []\n",
    "용법용량 = []\n",
    "주의사항 = []\n",
    "이미지 = []\n",
    "\n",
    "url = data['links'][0]\n",
    "req = requests.get(url)\n",
    "soup = BeautifulSoup(req.content, 'html.parser')\n",
    "제품.append(soup.select('h2.headword')[0].text)\n",
    "제조사.append(soup.select('tbody td')[2].text)\n",
    "성분정보.append(soup.select('p.txt')[1].text)\n",
    "저장방법.append(soup.select('p.txt')[2].text)\n",
    "효능효과.append(soup.select('p.txt')[3].text)\n",
    "용법용량.append(soup.select('p.txt')[4].text)\n",
    "주의사항.append(soup.select('p.txt')[5].text)\n",
    "이미지.append(set(img['data-src'] for img in soup.select('div.thmb.c > a img') if img.has_attr('data-src')))\n",
    "\n",
    "print(제품)\n",
    "print(제조사[0].strip('\\n'))\n",
    "print(성분정보[0].strip('\\n'))\n",
    "print(저장방법[0].strip('\\n'))\n",
    "print(효능효과[0].strip('\\n'))\n",
    "print(용법용량[0].strip('\\n'))\n",
    "print(주의사항[0].strip('\\n'))\n",
    "print(이미지)"
   ]
  },
  {
   "cell_type": "code",
   "execution_count": 91,
   "metadata": {},
   "outputs": [
    {
     "data": {
      "application/vnd.jupyter.widget-view+json": {
       "model_id": "2ffa6f83a8c64e23b054070165ad8c3a",
       "version_major": 2,
       "version_minor": 0
      },
      "text/plain": [
       "HBox(children=(FloatProgress(value=0.0, max=140.0), HTML(value='')))"
      ]
     },
     "metadata": {},
     "output_type": "display_data"
    },
    {
     "name": "stdout",
     "output_type": "stream",
     "text": [
      "\n"
     ]
    }
   ],
   "source": [
    "from tqdm.notebook import tqdm\n",
    "import time\n",
    "import re\n",
    "\n",
    "result_list = []\n",
    "\n",
    "for link in tqdm((data['links'])):\n",
    "    if link != 'x':\n",
    "        req = requests.get(link)\n",
    "        soup = BeautifulSoup(req.text, 'html.parser')\n",
    "\n",
    "        try:\n",
    "            제품 = soup.select('h2.headword')[0].text\n",
    "            제조사 = re.sub(\"[\\r\\n\\t]\", \"\", str(soup.select('tbody td')[2].text.strip()))\n",
    "            성분정보 =  re.sub(\"[\\r\\n\\t]\", \"\", str(soup.select('p.txt')[1].text.strip()))\n",
    "            저장방법 =  re.sub(\"[\\r\\n\\t]\", \"\", str(soup.select('p.txt')[2].text.strip()))\n",
    "            효능효과 =  re.sub(\"[\\r\\n\\t]\", \"\", str(soup.select('p.txt')[3].text.strip()))\n",
    "            용법용량 =  re.sub(\"[\\r\\n\\t]\", \"\", str(soup.select('p.txt')[4].text.strip()))\n",
    "            주의사항 =  re.sub(\"[\\r\\n\\t]\", \"\", str(soup.select('p.txt')[5].text.strip()))\n",
    "            이미지 = (set(img['data-src'] for img in soup.select('div.thmb.c > a img') if img.has_attr('data-src')))\n",
    "        except:\n",
    "            제품 = 'x'\n",
    "            제조사 = 'x'\n",
    "            성분정보 = 'x'\n",
    "            저장방법 = 'x'\n",
    "            효능효과 = 'x'\n",
    "            용법용량 = 'x'\n",
    "            주의사항 = 'x'\n",
    "            이미지 = 'x'\n",
    "\n",
    "        result = 제품, 제조사, 성분정보, 저장방법, 효능효과, 용법용량, 주의사항, 이미지\n",
    "        result_list.append(result)\n",
    "\n",
    "        time.sleep(0.5)"
   ]
  },
  {
   "cell_type": "code",
   "execution_count": 92,
   "metadata": {},
   "outputs": [],
   "source": [
    "medicine_data = pd.DataFrame(result_list, columns = ['제품', '제조사', '성분정보', '저장방법', '효능효과', '용법용량', '주의사항', '이미지'])"
   ]
  },
  {
   "cell_type": "code",
   "execution_count": 93,
   "metadata": {},
   "outputs": [
    {
     "data": {
      "text/html": [
       "<div>\n",
       "<style scoped>\n",
       "    .dataframe tbody tr th:only-of-type {\n",
       "        vertical-align: middle;\n",
       "    }\n",
       "\n",
       "    .dataframe tbody tr th {\n",
       "        vertical-align: top;\n",
       "    }\n",
       "\n",
       "    .dataframe thead th {\n",
       "        text-align: right;\n",
       "    }\n",
       "</style>\n",
       "<table border=\"1\" class=\"dataframe\">\n",
       "  <thead>\n",
       "    <tr style=\"text-align: right;\">\n",
       "      <th></th>\n",
       "      <th>제품</th>\n",
       "      <th>제조사</th>\n",
       "      <th>성분정보</th>\n",
       "      <th>저장방법</th>\n",
       "      <th>효능효과</th>\n",
       "      <th>용법용량</th>\n",
       "      <th>주의사항</th>\n",
       "      <th>이미지</th>\n",
       "    </tr>\n",
       "  </thead>\n",
       "  <tbody>\n",
       "    <tr>\n",
       "      <th>0</th>\n",
       "      <td>트라부틴정</td>\n",
       "      <td>경남제약</td>\n",
       "      <td>트리메부틴말레산염 100mg</td>\n",
       "      <td>밀폐용기,실온(1~30℃)보관</td>\n",
       "      <td>1. 주효능 효과1) 식도역류 및 열공헤르니아, 위, 십이지장염, 위, 십이지장궤양...</td>\n",
       "      <td>성인 : 트리메부틴말레산염으로서 1회 100-200mg 1일 3회 식전에 경구투여한...</td>\n",
       "      <td>1. 다음 환자에는 투여하지 말 것이 약은 유당(젖당)수화물을 함유하고 있으므로, ...</td>\n",
       "      <td>{https://dthumb-phinf.pstatic.net/?src=%22http...</td>\n",
       "    </tr>\n",
       "    <tr>\n",
       "      <th>1</th>\n",
       "      <td>훼스탈골드정</td>\n",
       "      <td>한독</td>\n",
       "      <td>시메티콘 60mg, 우르소데옥시콜산 20mg, 판크레아틴 150mg, 프로자임6 1...</td>\n",
       "      <td>실온보관(30℃이하), 밀폐용기</td>\n",
       "      <td>소화불량, 식욕감퇴(식욕부진), 과식, 식체(위체(체함)), 소화촉진, 소화불량으로...</td>\n",
       "      <td>성인 1회 1정, 1일 3회 식사 후 씹지 말고 복용한다.</td>\n",
       "      <td>1. 다음과 같은 사람은 이 약을 복용하지 말 것.1) 만 7세 이하의 어린이2. ...</td>\n",
       "      <td>{https://dthumb-phinf.pstatic.net/?src=%22http...</td>\n",
       "    </tr>\n",
       "    <tr>\n",
       "      <th>2</th>\n",
       "      <td>훼스탈플러스정</td>\n",
       "      <td>한독</td>\n",
       "      <td>시메티콘 30mg, 우르소데옥시콜산 10mg, 판크레아틴 315mg, 셀룰라제 10mg</td>\n",
       "      <td>밀폐용기, 실온보관</td>\n",
       "      <td>소화불량, 식욕감퇴(식욕부진), 과식, 식체(위체(체함)), 소화촉진, 소화불량으로...</td>\n",
       "      <td>소화불량, 식욕감퇴(식욕부진), 과식, 식체(위체(체함)), 소화촉진, 소화불량으로...</td>\n",
       "      <td>성인 1회 1-2정, 소아(만 8세~만15세미만) 1회 1정1일 3회, 식사 후 씹...</td>\n",
       "      <td>{https://dthumb-phinf.pstatic.net/?src=%22http...</td>\n",
       "    </tr>\n",
       "    <tr>\n",
       "      <th>3</th>\n",
       "      <td>미가펜에스연질캡슐</td>\n",
       "      <td>우리들제약</td>\n",
       "      <td>나프록센 250mg</td>\n",
       "      <td>기밀용기, 실온(1∼30℃)보관</td>\n",
       "      <td>1. 주효능효과류마티양 관절염, 골관절염(퇴행성 관절질환), 강직성 척추염, 건염,...</td>\n",
       "      <td>1. 류마티양 관절염, 골관절염, 강직성 척추염성인 : 나프록센으로서 1회 250～...</td>\n",
       "      <td>1. 경고1) 매일 세잔 이상 정기적으로 술을 마시는 사람이 이 약이나 다른 해열진...</td>\n",
       "      <td>{}</td>\n",
       "    </tr>\n",
       "    <tr>\n",
       "      <th>4</th>\n",
       "      <td>마이드린캡슐</td>\n",
       "      <td>녹십자</td>\n",
       "      <td>디클로랄페나존 100mg, 아세트아미노펜 325mg, 이소메텝텐뮤케이트 65mg</td>\n",
       "      <td>기밀용기,실온보관(1~30℃)</td>\n",
       "      <td>긴장성 두통 및 혈관성 두통 (편두통)</td>\n",
       "      <td>1.긴장성 두통:성인 1회 1~2캅셀을 1일 3회까지 복용한다.복용간격은 4시간 이...</td>\n",
       "      <td>[허가사항 변경지시(안전성정보 처리) (의약품관리총괄과-11696호, 2014.12...</td>\n",
       "      <td>{https://dthumb-phinf.pstatic.net/?src=%22http...</td>\n",
       "    </tr>\n",
       "  </tbody>\n",
       "</table>\n",
       "</div>"
      ],
      "text/plain": [
       "          제품    제조사                                               성분정보  \\\n",
       "0      트라부틴정   경남제약                                    트리메부틴말레산염 100mg   \n",
       "1     훼스탈골드정     한독  시메티콘 60mg, 우르소데옥시콜산 20mg, 판크레아틴 150mg, 프로자임6 1...   \n",
       "2    훼스탈플러스정     한독   시메티콘 30mg, 우르소데옥시콜산 10mg, 판크레아틴 315mg, 셀룰라제 10mg   \n",
       "3  미가펜에스연질캡슐  우리들제약                                         나프록센 250mg   \n",
       "4     마이드린캡슐    녹십자       디클로랄페나존 100mg, 아세트아미노펜 325mg, 이소메텝텐뮤케이트 65mg   \n",
       "\n",
       "                저장방법                                               효능효과  \\\n",
       "0   밀폐용기,실온(1~30℃)보관  1. 주효능 효과1) 식도역류 및 열공헤르니아, 위, 십이지장염, 위, 십이지장궤양...   \n",
       "1  실온보관(30℃이하), 밀폐용기  소화불량, 식욕감퇴(식욕부진), 과식, 식체(위체(체함)), 소화촉진, 소화불량으로...   \n",
       "2         밀폐용기, 실온보관  소화불량, 식욕감퇴(식욕부진), 과식, 식체(위체(체함)), 소화촉진, 소화불량으로...   \n",
       "3  기밀용기, 실온(1∼30℃)보관  1. 주효능효과류마티양 관절염, 골관절염(퇴행성 관절질환), 강직성 척추염, 건염,...   \n",
       "4   기밀용기,실온보관(1~30℃)                              긴장성 두통 및 혈관성 두통 (편두통)   \n",
       "\n",
       "                                                용법용량  \\\n",
       "0  성인 : 트리메부틴말레산염으로서 1회 100-200mg 1일 3회 식전에 경구투여한...   \n",
       "1                   성인 1회 1정, 1일 3회 식사 후 씹지 말고 복용한다.   \n",
       "2  소화불량, 식욕감퇴(식욕부진), 과식, 식체(위체(체함)), 소화촉진, 소화불량으로...   \n",
       "3  1. 류마티양 관절염, 골관절염, 강직성 척추염성인 : 나프록센으로서 1회 250～...   \n",
       "4  1.긴장성 두통:성인 1회 1~2캅셀을 1일 3회까지 복용한다.복용간격은 4시간 이...   \n",
       "\n",
       "                                                주의사항  \\\n",
       "0  1. 다음 환자에는 투여하지 말 것이 약은 유당(젖당)수화물을 함유하고 있으므로, ...   \n",
       "1  1. 다음과 같은 사람은 이 약을 복용하지 말 것.1) 만 7세 이하의 어린이2. ...   \n",
       "2  성인 1회 1-2정, 소아(만 8세~만15세미만) 1회 1정1일 3회, 식사 후 씹...   \n",
       "3  1. 경고1) 매일 세잔 이상 정기적으로 술을 마시는 사람이 이 약이나 다른 해열진...   \n",
       "4  [허가사항 변경지시(안전성정보 처리) (의약품관리총괄과-11696호, 2014.12...   \n",
       "\n",
       "                                                 이미지  \n",
       "0  {https://dthumb-phinf.pstatic.net/?src=%22http...  \n",
       "1  {https://dthumb-phinf.pstatic.net/?src=%22http...  \n",
       "2  {https://dthumb-phinf.pstatic.net/?src=%22http...  \n",
       "3                                                 {}  \n",
       "4  {https://dthumb-phinf.pstatic.net/?src=%22http...  "
      ]
     },
     "execution_count": 93,
     "metadata": {},
     "output_type": "execute_result"
    }
   ],
   "source": [
    "medicine_data.head()"
   ]
  },
  {
   "cell_type": "code",
   "execution_count": 107,
   "metadata": {},
   "outputs": [
    {
     "data": {
      "text/plain": [
       "['https://dthumb-phinf.pstatic.net/?src=%22https%3A%2F%2Fdbscthumb-phinf.pstatic.net%2F3323_000_9%2F20180711200502152_A4FO7DVH6.png%2FP_2009090700205_.png%3Ftype%3Dm4500_4500_fst%26wm%3DN%22&twidth=520&theight=287&opts=17']"
      ]
     },
     "execution_count": 107,
     "metadata": {},
     "output_type": "execute_result"
    }
   ],
   "source": [
    "list(medicine_data[\"이미지\"][0])"
   ]
  },
  {
   "cell_type": "code",
   "execution_count": 108,
   "metadata": {},
   "outputs": [],
   "source": [
    "def name_cut(x):\n",
    "    x = list(x)\n",
    "    return x "
   ]
  },
  {
   "cell_type": "code",
   "execution_count": 110,
   "metadata": {},
   "outputs": [],
   "source": [
    "medicine_data[\"이미지\"] = medicine_data[\"이미지\"].apply(name_cut)"
   ]
  },
  {
   "cell_type": "code",
   "execution_count": 111,
   "metadata": {},
   "outputs": [
    {
     "data": {
      "text/html": [
       "<div>\n",
       "<style scoped>\n",
       "    .dataframe tbody tr th:only-of-type {\n",
       "        vertical-align: middle;\n",
       "    }\n",
       "\n",
       "    .dataframe tbody tr th {\n",
       "        vertical-align: top;\n",
       "    }\n",
       "\n",
       "    .dataframe thead th {\n",
       "        text-align: right;\n",
       "    }\n",
       "</style>\n",
       "<table border=\"1\" class=\"dataframe\">\n",
       "  <thead>\n",
       "    <tr style=\"text-align: right;\">\n",
       "      <th></th>\n",
       "      <th>제품</th>\n",
       "      <th>제조사</th>\n",
       "      <th>성분정보</th>\n",
       "      <th>저장방법</th>\n",
       "      <th>효능효과</th>\n",
       "      <th>용법용량</th>\n",
       "      <th>주의사항</th>\n",
       "      <th>이미지</th>\n",
       "    </tr>\n",
       "  </thead>\n",
       "  <tbody>\n",
       "    <tr>\n",
       "      <th>0</th>\n",
       "      <td>트라부틴정</td>\n",
       "      <td>경남제약</td>\n",
       "      <td>트리메부틴말레산염 100mg</td>\n",
       "      <td>밀폐용기,실온(1~30℃)보관</td>\n",
       "      <td>1. 주효능 효과1) 식도역류 및 열공헤르니아, 위, 십이지장염, 위, 십이지장궤양...</td>\n",
       "      <td>성인 : 트리메부틴말레산염으로서 1회 100-200mg 1일 3회 식전에 경구투여한...</td>\n",
       "      <td>1. 다음 환자에는 투여하지 말 것이 약은 유당(젖당)수화물을 함유하고 있으므로, ...</td>\n",
       "      <td>[https://dthumb-phinf.pstatic.net/?src=%22http...</td>\n",
       "    </tr>\n",
       "    <tr>\n",
       "      <th>1</th>\n",
       "      <td>훼스탈골드정</td>\n",
       "      <td>한독</td>\n",
       "      <td>시메티콘 60mg, 우르소데옥시콜산 20mg, 판크레아틴 150mg, 프로자임6 1...</td>\n",
       "      <td>실온보관(30℃이하), 밀폐용기</td>\n",
       "      <td>소화불량, 식욕감퇴(식욕부진), 과식, 식체(위체(체함)), 소화촉진, 소화불량으로...</td>\n",
       "      <td>성인 1회 1정, 1일 3회 식사 후 씹지 말고 복용한다.</td>\n",
       "      <td>1. 다음과 같은 사람은 이 약을 복용하지 말 것.1) 만 7세 이하의 어린이2. ...</td>\n",
       "      <td>[https://dthumb-phinf.pstatic.net/?src=%22http...</td>\n",
       "    </tr>\n",
       "    <tr>\n",
       "      <th>2</th>\n",
       "      <td>훼스탈플러스정</td>\n",
       "      <td>한독</td>\n",
       "      <td>시메티콘 30mg, 우르소데옥시콜산 10mg, 판크레아틴 315mg, 셀룰라제 10mg</td>\n",
       "      <td>밀폐용기, 실온보관</td>\n",
       "      <td>소화불량, 식욕감퇴(식욕부진), 과식, 식체(위체(체함)), 소화촉진, 소화불량으로...</td>\n",
       "      <td>소화불량, 식욕감퇴(식욕부진), 과식, 식체(위체(체함)), 소화촉진, 소화불량으로...</td>\n",
       "      <td>성인 1회 1-2정, 소아(만 8세~만15세미만) 1회 1정1일 3회, 식사 후 씹...</td>\n",
       "      <td>[https://dthumb-phinf.pstatic.net/?src=%22http...</td>\n",
       "    </tr>\n",
       "    <tr>\n",
       "      <th>3</th>\n",
       "      <td>미가펜에스연질캡슐</td>\n",
       "      <td>우리들제약</td>\n",
       "      <td>나프록센 250mg</td>\n",
       "      <td>기밀용기, 실온(1∼30℃)보관</td>\n",
       "      <td>1. 주효능효과류마티양 관절염, 골관절염(퇴행성 관절질환), 강직성 척추염, 건염,...</td>\n",
       "      <td>1. 류마티양 관절염, 골관절염, 강직성 척추염성인 : 나프록센으로서 1회 250～...</td>\n",
       "      <td>1. 경고1) 매일 세잔 이상 정기적으로 술을 마시는 사람이 이 약이나 다른 해열진...</td>\n",
       "      <td>[]</td>\n",
       "    </tr>\n",
       "    <tr>\n",
       "      <th>4</th>\n",
       "      <td>마이드린캡슐</td>\n",
       "      <td>녹십자</td>\n",
       "      <td>디클로랄페나존 100mg, 아세트아미노펜 325mg, 이소메텝텐뮤케이트 65mg</td>\n",
       "      <td>기밀용기,실온보관(1~30℃)</td>\n",
       "      <td>긴장성 두통 및 혈관성 두통 (편두통)</td>\n",
       "      <td>1.긴장성 두통:성인 1회 1~2캅셀을 1일 3회까지 복용한다.복용간격은 4시간 이...</td>\n",
       "      <td>[허가사항 변경지시(안전성정보 처리) (의약품관리총괄과-11696호, 2014.12...</td>\n",
       "      <td>[https://dthumb-phinf.pstatic.net/?src=%22http...</td>\n",
       "    </tr>\n",
       "  </tbody>\n",
       "</table>\n",
       "</div>"
      ],
      "text/plain": [
       "          제품    제조사                                               성분정보  \\\n",
       "0      트라부틴정   경남제약                                    트리메부틴말레산염 100mg   \n",
       "1     훼스탈골드정     한독  시메티콘 60mg, 우르소데옥시콜산 20mg, 판크레아틴 150mg, 프로자임6 1...   \n",
       "2    훼스탈플러스정     한독   시메티콘 30mg, 우르소데옥시콜산 10mg, 판크레아틴 315mg, 셀룰라제 10mg   \n",
       "3  미가펜에스연질캡슐  우리들제약                                         나프록센 250mg   \n",
       "4     마이드린캡슐    녹십자       디클로랄페나존 100mg, 아세트아미노펜 325mg, 이소메텝텐뮤케이트 65mg   \n",
       "\n",
       "                저장방법                                               효능효과  \\\n",
       "0   밀폐용기,실온(1~30℃)보관  1. 주효능 효과1) 식도역류 및 열공헤르니아, 위, 십이지장염, 위, 십이지장궤양...   \n",
       "1  실온보관(30℃이하), 밀폐용기  소화불량, 식욕감퇴(식욕부진), 과식, 식체(위체(체함)), 소화촉진, 소화불량으로...   \n",
       "2         밀폐용기, 실온보관  소화불량, 식욕감퇴(식욕부진), 과식, 식체(위체(체함)), 소화촉진, 소화불량으로...   \n",
       "3  기밀용기, 실온(1∼30℃)보관  1. 주효능효과류마티양 관절염, 골관절염(퇴행성 관절질환), 강직성 척추염, 건염,...   \n",
       "4   기밀용기,실온보관(1~30℃)                              긴장성 두통 및 혈관성 두통 (편두통)   \n",
       "\n",
       "                                                용법용량  \\\n",
       "0  성인 : 트리메부틴말레산염으로서 1회 100-200mg 1일 3회 식전에 경구투여한...   \n",
       "1                   성인 1회 1정, 1일 3회 식사 후 씹지 말고 복용한다.   \n",
       "2  소화불량, 식욕감퇴(식욕부진), 과식, 식체(위체(체함)), 소화촉진, 소화불량으로...   \n",
       "3  1. 류마티양 관절염, 골관절염, 강직성 척추염성인 : 나프록센으로서 1회 250～...   \n",
       "4  1.긴장성 두통:성인 1회 1~2캅셀을 1일 3회까지 복용한다.복용간격은 4시간 이...   \n",
       "\n",
       "                                                주의사항  \\\n",
       "0  1. 다음 환자에는 투여하지 말 것이 약은 유당(젖당)수화물을 함유하고 있으므로, ...   \n",
       "1  1. 다음과 같은 사람은 이 약을 복용하지 말 것.1) 만 7세 이하의 어린이2. ...   \n",
       "2  성인 1회 1-2정, 소아(만 8세~만15세미만) 1회 1정1일 3회, 식사 후 씹...   \n",
       "3  1. 경고1) 매일 세잔 이상 정기적으로 술을 마시는 사람이 이 약이나 다른 해열진...   \n",
       "4  [허가사항 변경지시(안전성정보 처리) (의약품관리총괄과-11696호, 2014.12...   \n",
       "\n",
       "                                                 이미지  \n",
       "0  [https://dthumb-phinf.pstatic.net/?src=%22http...  \n",
       "1  [https://dthumb-phinf.pstatic.net/?src=%22http...  \n",
       "2  [https://dthumb-phinf.pstatic.net/?src=%22http...  \n",
       "3                                                 []  \n",
       "4  [https://dthumb-phinf.pstatic.net/?src=%22http...  "
      ]
     },
     "execution_count": 111,
     "metadata": {},
     "output_type": "execute_result"
    }
   ],
   "source": [
    "medicine_data.head()"
   ]
  },
  {
   "cell_type": "code",
   "execution_count": 113,
   "metadata": {},
   "outputs": [
    {
     "data": {
      "text/plain": [
       "'https://dthumb-phinf.pstatic.net/?src=%22https%3A%2F%2Fdbscthumb-phinf.pstatic.net%2F3323_000_9%2F20180711200502152_A4FO7DVH6.png%2FP_2009090700205_.png%3Ftype%3Dm4500_4500_fst%26wm%3DN%22&twidth=520&theight=287&opts=17'"
      ]
     },
     "execution_count": 113,
     "metadata": {},
     "output_type": "execute_result"
    }
   ],
   "source": [
    "(''.join(medicine_data[\"이미지\"][0]))"
   ]
  },
  {
   "cell_type": "code",
   "execution_count": 114,
   "metadata": {},
   "outputs": [],
   "source": [
    "def name_cut(x):\n",
    "    x = (''.join(x))\n",
    "    return x "
   ]
  },
  {
   "cell_type": "code",
   "execution_count": 115,
   "metadata": {},
   "outputs": [],
   "source": [
    "medicine_data[\"이미지\"] = medicine_data[\"이미지\"].apply(name_cut)"
   ]
  },
  {
   "cell_type": "code",
   "execution_count": 116,
   "metadata": {},
   "outputs": [
    {
     "data": {
      "text/html": [
       "<div>\n",
       "<style scoped>\n",
       "    .dataframe tbody tr th:only-of-type {\n",
       "        vertical-align: middle;\n",
       "    }\n",
       "\n",
       "    .dataframe tbody tr th {\n",
       "        vertical-align: top;\n",
       "    }\n",
       "\n",
       "    .dataframe thead th {\n",
       "        text-align: right;\n",
       "    }\n",
       "</style>\n",
       "<table border=\"1\" class=\"dataframe\">\n",
       "  <thead>\n",
       "    <tr style=\"text-align: right;\">\n",
       "      <th></th>\n",
       "      <th>제품</th>\n",
       "      <th>제조사</th>\n",
       "      <th>성분정보</th>\n",
       "      <th>저장방법</th>\n",
       "      <th>효능효과</th>\n",
       "      <th>용법용량</th>\n",
       "      <th>주의사항</th>\n",
       "      <th>이미지</th>\n",
       "    </tr>\n",
       "  </thead>\n",
       "  <tbody>\n",
       "    <tr>\n",
       "      <th>0</th>\n",
       "      <td>트라부틴정</td>\n",
       "      <td>경남제약</td>\n",
       "      <td>트리메부틴말레산염 100mg</td>\n",
       "      <td>밀폐용기,실온(1~30℃)보관</td>\n",
       "      <td>1. 주효능 효과1) 식도역류 및 열공헤르니아, 위, 십이지장염, 위, 십이지장궤양...</td>\n",
       "      <td>성인 : 트리메부틴말레산염으로서 1회 100-200mg 1일 3회 식전에 경구투여한...</td>\n",
       "      <td>1. 다음 환자에는 투여하지 말 것이 약은 유당(젖당)수화물을 함유하고 있으므로, ...</td>\n",
       "      <td>https://dthumb-phinf.pstatic.net/?src=%22https...</td>\n",
       "    </tr>\n",
       "    <tr>\n",
       "      <th>1</th>\n",
       "      <td>훼스탈골드정</td>\n",
       "      <td>한독</td>\n",
       "      <td>시메티콘 60mg, 우르소데옥시콜산 20mg, 판크레아틴 150mg, 프로자임6 1...</td>\n",
       "      <td>실온보관(30℃이하), 밀폐용기</td>\n",
       "      <td>소화불량, 식욕감퇴(식욕부진), 과식, 식체(위체(체함)), 소화촉진, 소화불량으로...</td>\n",
       "      <td>성인 1회 1정, 1일 3회 식사 후 씹지 말고 복용한다.</td>\n",
       "      <td>1. 다음과 같은 사람은 이 약을 복용하지 말 것.1) 만 7세 이하의 어린이2. ...</td>\n",
       "      <td>https://dthumb-phinf.pstatic.net/?src=%22https...</td>\n",
       "    </tr>\n",
       "    <tr>\n",
       "      <th>2</th>\n",
       "      <td>훼스탈플러스정</td>\n",
       "      <td>한독</td>\n",
       "      <td>시메티콘 30mg, 우르소데옥시콜산 10mg, 판크레아틴 315mg, 셀룰라제 10mg</td>\n",
       "      <td>밀폐용기, 실온보관</td>\n",
       "      <td>소화불량, 식욕감퇴(식욕부진), 과식, 식체(위체(체함)), 소화촉진, 소화불량으로...</td>\n",
       "      <td>소화불량, 식욕감퇴(식욕부진), 과식, 식체(위체(체함)), 소화촉진, 소화불량으로...</td>\n",
       "      <td>성인 1회 1-2정, 소아(만 8세~만15세미만) 1회 1정1일 3회, 식사 후 씹...</td>\n",
       "      <td>https://dthumb-phinf.pstatic.net/?src=%22https...</td>\n",
       "    </tr>\n",
       "    <tr>\n",
       "      <th>3</th>\n",
       "      <td>미가펜에스연질캡슐</td>\n",
       "      <td>우리들제약</td>\n",
       "      <td>나프록센 250mg</td>\n",
       "      <td>기밀용기, 실온(1∼30℃)보관</td>\n",
       "      <td>1. 주효능효과류마티양 관절염, 골관절염(퇴행성 관절질환), 강직성 척추염, 건염,...</td>\n",
       "      <td>1. 류마티양 관절염, 골관절염, 강직성 척추염성인 : 나프록센으로서 1회 250～...</td>\n",
       "      <td>1. 경고1) 매일 세잔 이상 정기적으로 술을 마시는 사람이 이 약이나 다른 해열진...</td>\n",
       "      <td></td>\n",
       "    </tr>\n",
       "    <tr>\n",
       "      <th>4</th>\n",
       "      <td>마이드린캡슐</td>\n",
       "      <td>녹십자</td>\n",
       "      <td>디클로랄페나존 100mg, 아세트아미노펜 325mg, 이소메텝텐뮤케이트 65mg</td>\n",
       "      <td>기밀용기,실온보관(1~30℃)</td>\n",
       "      <td>긴장성 두통 및 혈관성 두통 (편두통)</td>\n",
       "      <td>1.긴장성 두통:성인 1회 1~2캅셀을 1일 3회까지 복용한다.복용간격은 4시간 이...</td>\n",
       "      <td>[허가사항 변경지시(안전성정보 처리) (의약품관리총괄과-11696호, 2014.12...</td>\n",
       "      <td>https://dthumb-phinf.pstatic.net/?src=%22https...</td>\n",
       "    </tr>\n",
       "  </tbody>\n",
       "</table>\n",
       "</div>"
      ],
      "text/plain": [
       "          제품    제조사                                               성분정보  \\\n",
       "0      트라부틴정   경남제약                                    트리메부틴말레산염 100mg   \n",
       "1     훼스탈골드정     한독  시메티콘 60mg, 우르소데옥시콜산 20mg, 판크레아틴 150mg, 프로자임6 1...   \n",
       "2    훼스탈플러스정     한독   시메티콘 30mg, 우르소데옥시콜산 10mg, 판크레아틴 315mg, 셀룰라제 10mg   \n",
       "3  미가펜에스연질캡슐  우리들제약                                         나프록센 250mg   \n",
       "4     마이드린캡슐    녹십자       디클로랄페나존 100mg, 아세트아미노펜 325mg, 이소메텝텐뮤케이트 65mg   \n",
       "\n",
       "                저장방법                                               효능효과  \\\n",
       "0   밀폐용기,실온(1~30℃)보관  1. 주효능 효과1) 식도역류 및 열공헤르니아, 위, 십이지장염, 위, 십이지장궤양...   \n",
       "1  실온보관(30℃이하), 밀폐용기  소화불량, 식욕감퇴(식욕부진), 과식, 식체(위체(체함)), 소화촉진, 소화불량으로...   \n",
       "2         밀폐용기, 실온보관  소화불량, 식욕감퇴(식욕부진), 과식, 식체(위체(체함)), 소화촉진, 소화불량으로...   \n",
       "3  기밀용기, 실온(1∼30℃)보관  1. 주효능효과류마티양 관절염, 골관절염(퇴행성 관절질환), 강직성 척추염, 건염,...   \n",
       "4   기밀용기,실온보관(1~30℃)                              긴장성 두통 및 혈관성 두통 (편두통)   \n",
       "\n",
       "                                                용법용량  \\\n",
       "0  성인 : 트리메부틴말레산염으로서 1회 100-200mg 1일 3회 식전에 경구투여한...   \n",
       "1                   성인 1회 1정, 1일 3회 식사 후 씹지 말고 복용한다.   \n",
       "2  소화불량, 식욕감퇴(식욕부진), 과식, 식체(위체(체함)), 소화촉진, 소화불량으로...   \n",
       "3  1. 류마티양 관절염, 골관절염, 강직성 척추염성인 : 나프록센으로서 1회 250～...   \n",
       "4  1.긴장성 두통:성인 1회 1~2캅셀을 1일 3회까지 복용한다.복용간격은 4시간 이...   \n",
       "\n",
       "                                                주의사항  \\\n",
       "0  1. 다음 환자에는 투여하지 말 것이 약은 유당(젖당)수화물을 함유하고 있으므로, ...   \n",
       "1  1. 다음과 같은 사람은 이 약을 복용하지 말 것.1) 만 7세 이하의 어린이2. ...   \n",
       "2  성인 1회 1-2정, 소아(만 8세~만15세미만) 1회 1정1일 3회, 식사 후 씹...   \n",
       "3  1. 경고1) 매일 세잔 이상 정기적으로 술을 마시는 사람이 이 약이나 다른 해열진...   \n",
       "4  [허가사항 변경지시(안전성정보 처리) (의약품관리총괄과-11696호, 2014.12...   \n",
       "\n",
       "                                                 이미지  \n",
       "0  https://dthumb-phinf.pstatic.net/?src=%22https...  \n",
       "1  https://dthumb-phinf.pstatic.net/?src=%22https...  \n",
       "2  https://dthumb-phinf.pstatic.net/?src=%22https...  \n",
       "3                                                     \n",
       "4  https://dthumb-phinf.pstatic.net/?src=%22https...  "
      ]
     },
     "execution_count": 116,
     "metadata": {},
     "output_type": "execute_result"
    }
   ],
   "source": [
    "medicine_data.head()"
   ]
  },
  {
   "cell_type": "code",
   "execution_count": 118,
   "metadata": {},
   "outputs": [],
   "source": [
    "medicine_data.to_excel(\"의약품 정보.xlsx\")"
   ]
  }
 ],
 "metadata": {
  "kernelspec": {
   "display_name": "Python 3",
   "language": "python",
   "name": "python3"
  },
  "language_info": {
   "codemirror_mode": {
    "name": "ipython",
    "version": 3
   },
   "file_extension": ".py",
   "mimetype": "text/x-python",
   "name": "python",
   "nbconvert_exporter": "python",
   "pygments_lexer": "ipython3",
   "version": "3.7.3"
  }
 },
 "nbformat": 4,
 "nbformat_minor": 2
}
